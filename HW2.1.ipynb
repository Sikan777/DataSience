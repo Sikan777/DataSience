{
 "cells": [
  {
   "cell_type": "markdown",
   "id": "c5f90e71-78ea-4ea5-a4de-e516627613f9",
   "metadata": {},
   "source": [
    "# Частина перша: Знайомство з Pandas."
   ]
  },
  {
   "cell_type": "markdown",
   "id": "59df616b-2873-464a-b55a-f4a06e691ed6",
   "metadata": {},
   "source": [
    "Прочитайте дані за допомогою методу read_html з таблиці \"Коефіцієнт народжуваності в регіонах України (1950—2019)\" посилання<br>\n",
    "\n",
    "\n",
    "\n",
    "Необхідно нико на:\n",
    "\n",
    "\n",
    "\n",
    "Вивести перші рядки таблиці за допомогою мет <br>оду head\n",
    "Визначте кількість рядків та стовпців у датафреймі (атриб <br>\n",
    "т shape)\n",
    "Замініть у таблиці значення \"—\" на зн <br>\n",
    "чення NaN\n",
    "Визначте типи всіх стовпців за допомогою dataf <br>\n",
    "ame.dtypes\n",
    "Замініть типи нечислових колонок на числові. Підказка - це колонки, де знаходивс <br>\n",
    " символ \"—\"\n",
    "Порахуйте, яка частка пропусків міститься в кожній колонці (використовуйте методи i <br>\n",
    "null та sum)\n",
    "Видаліть з таблиці дані по всій країні, останній <br>\n",
    "рядок таблиці\n",
    "Замініть відсутні дані в стовпцях середніми значеннями цих стовпців <br>\n",
    "(метод fillna)\n",
    "Отримайте список регіонів, де рівень народжуваності у 2019 році був вищим за сер <br>\n",
    "дній по Україні\n",
    "У якому регіоні була найвища народжуван <br>\n",
    "сть у 2014 році?\n",
    "Побудуйте стовпчикову діаграму народжуваності по ре <br>онах у 2019 році\n",
    "\n",
    "\n",
    "Робота здається у вигляді Jupy <br>ter файлу Hw2.1.ipynb"
   ]
  },
  {
   "cell_type": "markdown",
   "id": "88e88138-71e1-44fa-9c7f-1a5912100316",
   "metadata": {},
   "source": [
    "## Імпортуємо всі необхідні бібліотеки"
   ]
  },
  {
   "cell_type": "code",
   "execution_count": 1,
   "id": "3400f2b1-3a60-4c35-ba36-07ec5fe9fc2a",
   "metadata": {},
   "outputs": [
    {
     "ename": "ModuleNotFoundError",
     "evalue": "No module named 'requests'",
     "output_type": "error",
     "traceback": [
      "\u001b[1;31m---------------------------------------------------------------------------\u001b[0m",
      "\u001b[1;31mModuleNotFoundError\u001b[0m                       Traceback (most recent call last)",
      "Cell \u001b[1;32mIn[1], line 1\u001b[0m\n\u001b[1;32m----> 1\u001b[0m \u001b[38;5;28;01mimport\u001b[39;00m \u001b[38;5;21;01mrequests\u001b[39;00m\n\u001b[0;32m      2\u001b[0m \u001b[38;5;28;01mimport\u001b[39;00m \u001b[38;5;21;01mpandas\u001b[39;00m \u001b[38;5;28;01mas\u001b[39;00m \u001b[38;5;21;01mpd\u001b[39;00m\n\u001b[0;32m      3\u001b[0m \u001b[38;5;28;01mimport\u001b[39;00m \u001b[38;5;21;01mmatplotlib\u001b[39;00m\u001b[38;5;21;01m.\u001b[39;00m\u001b[38;5;21;01mpyplot\u001b[39;00m \u001b[38;5;28;01mas\u001b[39;00m \u001b[38;5;21;01mplt\u001b[39;00m\n",
      "\u001b[1;31mModuleNotFoundError\u001b[0m: No module named 'requests'"
     ]
    }
   ],
   "source": [
    "import requests\n",
    "import pandas as pd\n",
    "import matplotlib.pyplot as plt\n",
    "from io import StringIO\n",
    "import os"
   ]
  },
  {
   "cell_type": "code",
   "execution_count": null,
   "id": "5adc3c64-33b5-4ab6-a4db-668991b6c15a",
   "metadata": {},
   "outputs": [
    {
     "ename": "NameError",
     "evalue": "name 'os' is not defined",
     "output_type": "error",
     "traceback": [
      "\u001b[1;31m---------------------------------------------------------------------------\u001b[0m",
      "\u001b[1;31mNameError\u001b[0m                                 Traceback (most recent call last)",
      "Cell \u001b[1;32mIn[4], line 1\u001b[0m\n\u001b[1;32m----> 1\u001b[0m os\u001b[38;5;241m.\u001b[39menviron[\u001b[38;5;124m'\u001b[39m\u001b[38;5;124mPYTHONIOENCODING\u001b[39m\u001b[38;5;124m'\u001b[39m] \u001b[38;5;241m=\u001b[39m \u001b[38;5;124m'\u001b[39m\u001b[38;5;124mUTF-8\u001b[39m\u001b[38;5;124m'\u001b[39m\n\u001b[0;32m      3\u001b[0m url \u001b[38;5;241m=\u001b[39m \u001b[38;5;124m\"\u001b[39m\u001b[38;5;124mhttps://uk.wikipedia.org/wiki/Населення_України\u001b[39m\u001b[38;5;124m\"\u001b[39m\n\u001b[0;32m      4\u001b[0m \u001b[38;5;28;01mtry\u001b[39;00m:\n\u001b[0;32m      5\u001b[0m     \u001b[38;5;66;03m# Try to read HTML tables from the URL\u001b[39;00m\n",
      "\u001b[1;31mNameError\u001b[0m: name 'os' is not defined"
     ]
    }
   ],
   "source": [
    "os.environ['PYTHONIOENCODING'] = 'UTF-8'\n",
    "\n",
    "url = \"https://uk.wikipedia.org/wiki/Населення_України\"\n",
    "try:\n",
    "    # Try to read HTML tables from the URL\n",
    "    response = requests.get(url)\n",
    "    # Check if the request was successful\n",
    "    if response.status_code == 200:\n",
    "        # Decode the content using UTF-8 encoding\n",
    "        html_content = response.content.decode('utf-8')  \n",
    "        html_file = StringIO(html_content)\n",
    "        # Read HTML tables from the decoded content\n",
    "        tables = pd.read_html(html_file, match=\"Коефіцієнт народжуваності\")\n",
    "    \n",
    "    if tables:\n",
    "        #print(tables)\n",
    "        df = tables[0]\n",
    "        print(\"All tables\\n\", df)\n",
    "        print(\"\\nThe first 5 lines:\\n\", df.head(5)) # Find the first 5 lines\n",
    "    else:\n",
    "        print(\"No tables found on the page.\")\n",
    "\n",
    "except Exception as e:\n",
    "    print(\"Error:\", e)\n"
   ]
  },
  {
   "cell_type": "markdown",
   "id": "726c4ddf-e4ab-48bd-8219-a1010975ca0f",
   "metadata": {},
   "source": [
    "## Визначте кількість рядків та стовпців у датафреймі (атрибут shape)"
   ]
  },
  {
   "cell_type": "code",
   "execution_count": null,
   "id": "ebf1133f-412d-46f4-866a-151bcbe29a33",
   "metadata": {},
   "outputs": [
    {
     "ename": "NameError",
     "evalue": "name 'df' is not defined",
     "output_type": "error",
     "traceback": [
      "\u001b[1;31m---------------------------------------------------------------------------\u001b[0m",
      "\u001b[1;31mNameError\u001b[0m                                 Traceback (most recent call last)",
      "Cell \u001b[1;32mIn[5], line 1\u001b[0m\n\u001b[1;32m----> 1\u001b[0m \u001b[38;5;28mprint\u001b[39m(\u001b[38;5;124m\"\u001b[39m\u001b[38;5;124mЗагальна кількість рядків і стовпців:\u001b[39m\u001b[38;5;124m\"\u001b[39m, (df\u001b[38;5;241m.\u001b[39mshape) )\n",
      "\u001b[1;31mNameError\u001b[0m: name 'df' is not defined"
     ]
    }
   ],
   "source": [
    "print(\"Загальна кількість рядків і стовпців:\", (df.shape) )"
   ]
  },
  {
   "cell_type": "markdown",
   "id": "b7c799dd-5593-4d0f-9e6c-cadce3e31065",
   "metadata": {},
   "source": [
    "## Замініть у таблиці значення \"—\" на значення NaN "
   ]
  },
  {
   "cell_type": "code",
   "execution_count": null,
   "id": "08b055d4-6036-442e-917b-39e780718edb",
   "metadata": {},
   "outputs": [
    {
     "name": "stdout",
     "output_type": "stream",
     "text": [
      "               Регіон   1950   1960   1970  1990  2000  2012 2014 2019\n",
      "0                Крим  230.0  206.0  160.0   130    73   126  NaN  NaN\n",
      "1           Вінницька  224.0  192.0  142.0   124    84   112  109   76\n",
      "2           Волинська  247.0  250.0  179.0   153   112   148  141  101\n",
      "3    Дніпропетровська  204.0  204.0  151.0   123    71   112  111   71\n",
      "4            Донецька  271.0  214.0  140.0   109    61    98   82  NaN\n",
      "5         Житомирська  261.0  223.0  159.0   129    89   122  120   79\n",
      "6        Закарпатська  314.0  273.0  207.0   168   115   151  146  104\n",
      "7          Запорізька  219.0  197.0  150.0   124    71   106  106   68\n",
      "8   Івано-Франківська  243.0  248.0  182.0   155   103   124  122   88\n",
      "9            Київська  204.0  189.0  156.0   123    73   122  121   80\n",
      "10     Кіровоградська  216.0  171.0  145.0   126    79   110  108   68\n",
      "11          Луганська  262.0  235.0  144.0   116    62    96   51  NaN\n",
      "12          Львівська  234.0  240.0  171.0   140    91   119  119   87\n",
      "13       Миколаївська  211.0  194.0  155.0   137    80   115  112   71\n",
      "14            Одеська  241.0  192.0  148.0   126    80   127  123   88\n",
      "15         Полтавська  186.0  163.0  131.0   118    70    99  100   65\n",
      "16         Рівненська  269.0  267.0  193.0   158   118   159  148  107\n",
      "17            Сумська  216.0  184.0  132.0   115    70    97   92   60\n",
      "18      Тернопільська  213.0  216.0  157.0   142    92   113  109   76\n",
      "19         Харківська  197.0  173.0  140.0   114    68    99  101   68\n",
      "20         Херсонська  208.0  214.0  166.0   143    85   117  115   81\n",
      "21        Хмельницька  234.0  198.0  148.0   129    85   113  112   79\n",
      "22          Черкаська  205.0  179.0  144.0   123    75   100   98   64\n",
      "23        Чернівецька  247.0  218.0  170.0   148   101   128  129   92\n",
      "24       Чернігівська  220.0  183.0  127.0   108    69    94   90   61\n",
      "25               Київ    NaN  174.0  159.0   120    73   120  121  110\n",
      "26        Севастополь    NaN    NaN    NaN   125    70   120  NaN  NaN\n",
      "27            Україна  228.0  205.0  152.0   126    78   114  111   81\n"
     ]
    }
   ],
   "source": [
    "df.replace(\"—\", float(\"NaN\"), inplace=True)\n",
    "print(df)"
   ]
  },
  {
   "cell_type": "markdown",
   "id": "09443964-f1bd-41c5-985d-d7c69333dafc",
   "metadata": {},
   "source": [
    "## Визначте типи всіх стовпців за допомогою dataframe.dtypes. Замініть типи нечислових колонок на числові. Підказка - це колонки 2014 та 2019."
   ]
  },
  {
   "cell_type": "code",
   "execution_count": null,
   "id": "ca16c27f-af55-44bc-9740-1721c4bc629d",
   "metadata": {},
   "outputs": [
    {
     "name": "stdout",
     "output_type": "stream",
     "text": [
      "Регіон     object\n",
      "1950      float64\n",
      "1960      float64\n",
      "1970      float64\n",
      "1990        int64\n",
      "2000        int64\n",
      "2012        int64\n",
      "2014      float64\n",
      "2019      float64\n",
      "dtype: object\n",
      "               Регіон   1950   1960   1970  1990  2000  2012   2014   2019\n",
      "0                Крим  230.0  206.0  160.0   130    73   126    NaN    NaN\n",
      "1           Вінницька  224.0  192.0  142.0   124    84   112  109.0   76.0\n",
      "2           Волинська  247.0  250.0  179.0   153   112   148  141.0  101.0\n",
      "3    Дніпропетровська  204.0  204.0  151.0   123    71   112  111.0   71.0\n",
      "4            Донецька  271.0  214.0  140.0   109    61    98   82.0    NaN\n",
      "5         Житомирська  261.0  223.0  159.0   129    89   122  120.0   79.0\n",
      "6        Закарпатська  314.0  273.0  207.0   168   115   151  146.0  104.0\n",
      "7          Запорізька  219.0  197.0  150.0   124    71   106  106.0   68.0\n",
      "8   Івано-Франківська  243.0  248.0  182.0   155   103   124  122.0   88.0\n",
      "9            Київська  204.0  189.0  156.0   123    73   122  121.0   80.0\n",
      "10     Кіровоградська  216.0  171.0  145.0   126    79   110  108.0   68.0\n",
      "11          Луганська  262.0  235.0  144.0   116    62    96   51.0    NaN\n",
      "12          Львівська  234.0  240.0  171.0   140    91   119  119.0   87.0\n",
      "13       Миколаївська  211.0  194.0  155.0   137    80   115  112.0   71.0\n",
      "14            Одеська  241.0  192.0  148.0   126    80   127  123.0   88.0\n",
      "15         Полтавська  186.0  163.0  131.0   118    70    99  100.0   65.0\n",
      "16         Рівненська  269.0  267.0  193.0   158   118   159  148.0  107.0\n",
      "17            Сумська  216.0  184.0  132.0   115    70    97   92.0   60.0\n",
      "18      Тернопільська  213.0  216.0  157.0   142    92   113  109.0   76.0\n",
      "19         Харківська  197.0  173.0  140.0   114    68    99  101.0   68.0\n",
      "20         Херсонська  208.0  214.0  166.0   143    85   117  115.0   81.0\n",
      "21        Хмельницька  234.0  198.0  148.0   129    85   113  112.0   79.0\n",
      "22          Черкаська  205.0  179.0  144.0   123    75   100   98.0   64.0\n",
      "23        Чернівецька  247.0  218.0  170.0   148   101   128  129.0   92.0\n",
      "24       Чернігівська  220.0  183.0  127.0   108    69    94   90.0   61.0\n",
      "25               Київ    NaN  174.0  159.0   120    73   120  121.0  110.0\n",
      "26        Севастополь    NaN    NaN    NaN   125    70   120    NaN    NaN\n",
      "27            Україна  228.0  205.0  152.0   126    78   114  111.0   81.0\n"
     ]
    }
   ],
   "source": [
    "df['2014'] = pd.to_numeric(df['2014'], errors='coerce')\n",
    "df['2019'] = pd.to_numeric(df['2019'], errors='coerce')\n",
    "print(df.dtypes)\n",
    "print(df)"
   ]
  },
  {
   "cell_type": "markdown",
   "id": "724b2993-4fbe-4ff3-9e08-f1804bf5a59d",
   "metadata": {},
   "source": [
    "## Порахуйте, яка частка пропусків міститься в кожній колонці (використовуйте методи isnull та sum)"
   ]
  },
  {
   "cell_type": "code",
   "execution_count": null,
   "id": "0b8b69fa-ca28-488f-8f10-6ba6dffeb193",
   "metadata": {},
   "outputs": [
    {
     "name": "stdout",
     "output_type": "stream",
     "text": [
      "Missing values:\n",
      " Регіон    0\n",
      "1950      2\n",
      "1960      1\n",
      "1970      1\n",
      "1990      0\n",
      "2000      0\n",
      "2012      0\n",
      "2014      2\n",
      "2019      4\n",
      "dtype: int64\n",
      "\n",
      " Регіон    0.000000\n",
      "1950      0.071429\n",
      "1960      0.035714\n",
      "1970      0.035714\n",
      "1990      0.000000\n",
      "2000      0.000000\n",
      "2012      0.000000\n",
      "2014      0.071429\n",
      "2019      0.142857\n",
      "dtype: float64\n"
     ]
    }
   ],
   "source": [
    "missing_values = df.isnull().sum()\n",
    "print(\"Missing values:\\n\", missing_values)\n",
    "\n",
    "missing_values_proportion = missing_values / df.shape[0]\n",
    "print(\"\\n\",missing_values_proportion)"
   ]
  },
  {
   "cell_type": "markdown",
   "id": "64da038e-3a87-428b-9de2-ea13d2fb9541",
   "metadata": {},
   "source": [
    "## Видаліть з таблиці дані по всій країні, останній рядок таблиці"
   ]
  },
  {
   "cell_type": "code",
   "execution_count": null,
   "id": "6f69a075-653b-4e6a-8de8-008a205ec740",
   "metadata": {},
   "outputs": [
    {
     "name": "stdout",
     "output_type": "stream",
     "text": [
      "               Регіон   1950   1960   1970  1990  2000  2012   2014   2019\n",
      "0                Крим  230.0  206.0  160.0   130    73   126    NaN    NaN\n",
      "1           Вінницька  224.0  192.0  142.0   124    84   112  109.0   76.0\n",
      "2           Волинська  247.0  250.0  179.0   153   112   148  141.0  101.0\n",
      "3    Дніпропетровська  204.0  204.0  151.0   123    71   112  111.0   71.0\n",
      "4            Донецька  271.0  214.0  140.0   109    61    98   82.0    NaN\n",
      "5         Житомирська  261.0  223.0  159.0   129    89   122  120.0   79.0\n",
      "6        Закарпатська  314.0  273.0  207.0   168   115   151  146.0  104.0\n",
      "7          Запорізька  219.0  197.0  150.0   124    71   106  106.0   68.0\n",
      "8   Івано-Франківська  243.0  248.0  182.0   155   103   124  122.0   88.0\n",
      "9            Київська  204.0  189.0  156.0   123    73   122  121.0   80.0\n",
      "10     Кіровоградська  216.0  171.0  145.0   126    79   110  108.0   68.0\n",
      "11          Луганська  262.0  235.0  144.0   116    62    96   51.0    NaN\n",
      "12          Львівська  234.0  240.0  171.0   140    91   119  119.0   87.0\n",
      "13       Миколаївська  211.0  194.0  155.0   137    80   115  112.0   71.0\n",
      "14            Одеська  241.0  192.0  148.0   126    80   127  123.0   88.0\n",
      "15         Полтавська  186.0  163.0  131.0   118    70    99  100.0   65.0\n",
      "16         Рівненська  269.0  267.0  193.0   158   118   159  148.0  107.0\n",
      "17            Сумська  216.0  184.0  132.0   115    70    97   92.0   60.0\n",
      "18      Тернопільська  213.0  216.0  157.0   142    92   113  109.0   76.0\n",
      "19         Харківська  197.0  173.0  140.0   114    68    99  101.0   68.0\n",
      "20         Херсонська  208.0  214.0  166.0   143    85   117  115.0   81.0\n",
      "21        Хмельницька  234.0  198.0  148.0   129    85   113  112.0   79.0\n",
      "22          Черкаська  205.0  179.0  144.0   123    75   100   98.0   64.0\n",
      "23        Чернівецька  247.0  218.0  170.0   148   101   128  129.0   92.0\n",
      "24       Чернігівська  220.0  183.0  127.0   108    69    94   90.0   61.0\n",
      "25               Київ    NaN  174.0  159.0   120    73   120  121.0  110.0\n",
      "26        Севастополь    NaN    NaN    NaN   125    70   120    NaN    NaN\n"
     ]
    }
   ],
   "source": [
    "df.drop(index=df.index[-1],axis=0,inplace=True)\n",
    "print(df)"
   ]
  },
  {
   "cell_type": "markdown",
   "id": "80d9adc0-fde0-4c02-b3fe-922020c158f9",
   "metadata": {},
   "source": [
    "## Замініть відсутні дані в стовпцях середніми значеннями цих стовпців (метод fillna)\n"
   ]
  },
  {
   "cell_type": "code",
   "execution_count": null,
   "id": "92cb1479-fc74-45ab-9bc7-472943079172",
   "metadata": {},
   "outputs": [
    {
     "name": "stdout",
     "output_type": "stream",
     "text": [
      "               Регіон   1950   1960   1970  1990  2000  2012   2014   2019\n",
      "0                Крим 230.00 206.00 160.00   130    73   126 111.44  80.17\n",
      "1           Вінницька 224.00 192.00 142.00   124    84   112 109.00  76.00\n",
      "2           Волинська 247.00 250.00 179.00   153   112   148 141.00 101.00\n",
      "3    Дніпропетровська 204.00 204.00 151.00   123    71   112 111.00  71.00\n",
      "4            Донецька 271.00 214.00 140.00   109    61    98  82.00  80.17\n",
      "5         Житомирська 261.00 223.00 159.00   129    89   122 120.00  79.00\n",
      "6        Закарпатська 314.00 273.00 207.00   168   115   151 146.00 104.00\n",
      "7          Запорізька 219.00 197.00 150.00   124    71   106 106.00  68.00\n",
      "8   Івано-Франківська 243.00 248.00 182.00   155   103   124 122.00  88.00\n",
      "9            Київська 204.00 189.00 156.00   123    73   122 121.00  80.00\n",
      "10     Кіровоградська 216.00 171.00 145.00   126    79   110 108.00  68.00\n",
      "11          Луганська 262.00 235.00 144.00   116    62    96  51.00  80.17\n",
      "12          Львівська 234.00 240.00 171.00   140    91   119 119.00  87.00\n",
      "13       Миколаївська 211.00 194.00 155.00   137    80   115 112.00  71.00\n",
      "14            Одеська 241.00 192.00 148.00   126    80   127 123.00  88.00\n",
      "15         Полтавська 186.00 163.00 131.00   118    70    99 100.00  65.00\n",
      "16         Рівненська 269.00 267.00 193.00   158   118   159 148.00 107.00\n",
      "17            Сумська 216.00 184.00 132.00   115    70    97  92.00  60.00\n",
      "18      Тернопільська 213.00 216.00 157.00   142    92   113 109.00  76.00\n",
      "19         Харківська 197.00 173.00 140.00   114    68    99 101.00  68.00\n",
      "20         Херсонська 208.00 214.00 166.00   143    85   117 115.00  81.00\n",
      "21        Хмельницька 234.00 198.00 148.00   129    85   113 112.00  79.00\n",
      "22          Черкаська 205.00 179.00 144.00   123    75   100  98.00  64.00\n",
      "23        Чернівецька 247.00 218.00 170.00   148   101   128 129.00  92.00\n",
      "24       Чернігівська 220.00 183.00 127.00   108    69    94  90.00  61.00\n",
      "25               Київ 231.04 174.00 159.00   120    73   120 121.00 110.00\n",
      "26        Севастополь 231.04 207.58 156.00   125    70   120 111.44  80.17\n"
     ]
    }
   ],
   "source": [
    "pd.set_option('display.float_format', '{:.2f}'.format) # use for .2f format\n",
    "column_means = df.iloc[:, 1:].mean()\n",
    "df = df.fillna(column_means)\n",
    "print(df)"
   ]
  },
  {
   "cell_type": "markdown",
   "id": "455eaf92-2509-4228-8862-f2dba4b31659",
   "metadata": {},
   "source": [
    "## Отримайте список регіонів, де рівень народжуваності у 2019 році був вищим за середній по Україні"
   ]
  },
  {
   "cell_type": "code",
   "execution_count": null,
   "id": "ac2708e0-b4a5-4288-9773-fe9495bd00d0",
   "metadata": {},
   "outputs": [
    {
     "name": "stdout",
     "output_type": "stream",
     "text": [
      "80.17391304347828\n",
      "2             Волинська\n",
      "6          Закарпатська\n",
      "8     Івано-Франківська\n",
      "12            Львівська\n",
      "14              Одеська\n",
      "16           Рівненська\n",
      "20           Херсонська\n",
      "23          Чернівецька\n",
      "25                 Київ\n",
      "Name: Регіон, dtype: object\n"
     ]
    }
   ],
   "source": [
    "average_birth_rate = df[\"2019\"].mean()\n",
    "print(average_birth_rate)\n",
    "above_average_regions = df[(df[\"2019\"]) > average_birth_rate]\n",
    "\n",
    "# Print the list of regions\n",
    "print(above_average_regions[\"Регіон\"])"
   ]
  },
  {
   "cell_type": "markdown",
   "id": "f2ff7b05-76b6-41d5-af46-3e2920c77548",
   "metadata": {},
   "source": [
    "## У якому регіоні була найвища народжуваність у 2014 році?"
   ]
  },
  {
   "cell_type": "code",
   "execution_count": null,
   "id": "af2cf596-1470-4dbb-9a59-13a0cd6d56da",
   "metadata": {},
   "outputs": [
    {
     "name": "stdout",
     "output_type": "stream",
     "text": [
      "Region: Рівненська\n"
     ]
    }
   ],
   "source": [
    "highest_birth_rate_index = df[\"2014\"].idxmax()\n",
    "highest_birth_rate_region = df.loc[highest_birth_rate_index, \"Регіон\"]\n",
    "print(\"Region:\", highest_birth_rate_region)"
   ]
  },
  {
   "cell_type": "markdown",
   "id": "9b4b04b9-52ad-4a80-9782-6f10640c3cbb",
   "metadata": {},
   "source": [
    "## Побудуйте стовпчикову діаграму народжуваності по регіонах у 2019 році"
   ]
  },
  {
   "cell_type": "code",
   "execution_count": null,
   "id": "3627d1ea-61eb-418b-9452-c2fa03b78606",
   "metadata": {},
   "outputs": [
    {
     "data": {
      "image/png": "[encoded data removed]",
      "text/plain": [
       "<Figure size 1000x600 with 1 Axes>"
      ]
     },
     "metadata": {},
     "output_type": "display_data"
    }
   ],
   "source": [
    "# Plotting the bar chart\n",
    "plt.figure(figsize=(10, 6))\n",
    "plt.bar(df[\"Регіон\"], df[\"2019\"], color='skyblue')\n",
    "# Add labels and title\n",
    "plt.xlabel('Region')\n",
    "plt.ylabel('Birth Rate')\n",
    "plt.title('Birth Rate by Region in 2019')\n",
    "\n",
    "# Rotating x-axis labels for better readability\n",
    "plt.xticks(rotation=90)\n",
    "\n",
    "# Display the plot\n",
    "plt.tight_layout()\n",
    "plt.show()"
   ]
  },
  {
   "cell_type": "code",
   "execution_count": null,
   "id": "69494808-efd6-4679-b007-8affa00b4d60",
   "metadata": {},
   "outputs": [],
   "source": []
  }
 ],
 "metadata": {
  "kernelspec": {
   "display_name": "Python 3 (ipykernel)",
   "language": "python",
   "name": "python3"
  },
  "language_info": {
   "codemirror_mode": {
    "name": "ipython",
    "version": 3
   },
   "file_extension": ".py",
   "mimetype": "text/x-python",
   "name": "python",
   "nbconvert_exporter": "python",
   "pygments_lexer": "ipython3",
   "version": "3.12.0"
  }
 },
 "nbformat": 4,
 "nbformat_minor": 5
}
