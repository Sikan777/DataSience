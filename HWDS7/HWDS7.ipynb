{
  "cells": [
    {
      "cell_type": "code",
      "execution_count": 1,
      "metadata": {
        "colab": {
          "base_uri": "https://localhost:8080/"
        },
        "id": "IbG5q2d_6_af",
        "outputId": "605557d1-0e2e-4504-d00c-1148ed9b2184"
      },
      "outputs": [
        {
          "name": "stdout",
          "output_type": "stream",
          "text": [
            "Requirement already satisfied: scikit-surprise in c:\\users\\sikan\\appdata\\local\\pypoetry\\cache\\virtualenvs\\datasience-zd1dwedm-py3.12\\lib\\site-packages (1.1.3)\n",
            "Requirement already satisfied: joblib>=1.0.0 in c:\\users\\sikan\\appdata\\local\\pypoetry\\cache\\virtualenvs\\datasience-zd1dwedm-py3.12\\lib\\site-packages (from scikit-surprise) (1.4.0)\n",
            "Requirement already satisfied: numpy>=1.17.3 in c:\\users\\sikan\\appdata\\local\\pypoetry\\cache\\virtualenvs\\datasience-zd1dwedm-py3.12\\lib\\site-packages (from scikit-surprise) (1.26.4)\n",
            "Requirement already satisfied: scipy>=1.3.2 in c:\\users\\sikan\\appdata\\local\\pypoetry\\cache\\virtualenvs\\datasience-zd1dwedm-py3.12\\lib\\site-packages (from scikit-surprise) (1.13.0)\n",
            "Note: you may need to restart the kernel to use updated packages.\n"
          ]
        }
      ],
      "source": [
        "pip install scikit-surprise "
      ]
    },
    {
      "cell_type": "code",
      "execution_count": 2,
      "metadata": {
        "id": "CMzoubjV0rx4"
      },
      "outputs": [],
      "source": [
        "from surprise import SVD, SVDpp, NMF\n",
        "from surprise import Dataset, accuracy, Reader\n",
        "from surprise.model_selection import cross_validate, train_test_split, GridSearchCV"
      ]
    },
    {
      "cell_type": "code",
      "execution_count": 3,
      "metadata": {
        "colab": {
          "base_uri": "https://localhost:8080/"
        },
        "id": "ph0BNFkr5VkU",
        "outputId": "7ccc52c1-5cdb-4b0e-c809-70d237b2c808"
      },
      "outputs": [],
      "source": [
        "# Loading dataset\n",
        "data = Dataset.load_builtin('ml-100k')\n"
      ]
    },
    {
      "cell_type": "code",
      "execution_count": 4,
      "metadata": {
        "colab": {
          "base_uri": "https://localhost:8080/"
        },
        "id": "7j5oynMQ8fyB",
        "outputId": "810a21cc-5eb4-461b-c57c-4c280aeaad7a"
      },
      "outputs": [
        {
          "name": "stdout",
          "output_type": "stream",
          "text": [
            "Evaluating RMSE, MAE of algorithm SVD on 5 split(s).\n",
            "\n",
            "                  Fold 1  Fold 2  Fold 3  Fold 4  Fold 5  Mean    Std     \n",
            "RMSE (testset)    0.9382  0.9282  0.9302  0.9326  0.9418  0.9342  0.0051  \n",
            "MAE (testset)     0.7377  0.7321  0.7361  0.7363  0.7427  0.7370  0.0034  \n",
            "Fit time          1.25    1.22    1.31    1.27    1.29    1.27    0.03    \n",
            "Test time         0.13    0.12    0.25    0.19    0.11    0.16    0.05    \n"
          ]
        }
      ],
      "source": [
        "# Use the famous SVD algorithm\n",
        "model = SVD()\n",
        "\n",
        "# Run 5-fold cross-validation and print results\n",
        "results_SVD = cross_validate(model, data, measures=['RMSE', 'MAE'], cv=5, verbose=True)"
      ]
    },
    {
      "cell_type": "code",
      "execution_count": 5,
      "metadata": {
        "colab": {
          "base_uri": "https://localhost:8080/"
        },
        "id": "EgBTtCI0_OQq",
        "outputId": "c8918b7d-a067-4c38-fdd8-cc3253c59304"
      },
      "outputs": [
        {
          "name": "stdout",
          "output_type": "stream",
          "text": [
            "RMSE: 0.9398\n"
          ]
        },
        {
          "data": {
            "text/plain": [
              "0.9398456991782965"
            ]
          },
          "execution_count": 5,
          "metadata": {},
          "output_type": "execute_result"
        }
      ],
      "source": [
        "# We divide the dataset into trainset and testset, test set is made of 25% of the ratings.\n",
        "trainset, testset = train_test_split(data, test_size=0.25)\n",
        "\n",
        "# We'll use the famous SVD algorithm.\n",
        "algo = SVD()\n",
        "\n",
        "# Train the algorithm on the trainset, and predict ratings for the testset\n",
        "algo.fit(trainset)\n",
        "predictions = algo.test(testset)\n",
        "\n",
        "# Then compute RMSE\n",
        "accuracy.rmse(predictions)"
      ]
    },
    {
      "cell_type": "code",
      "execution_count": 6,
      "metadata": {
        "colab": {
          "base_uri": "https://localhost:8080/"
        },
        "id": "JaSmtgWQLWUS",
        "outputId": "af1a5ea8-2cfe-4499-bf7d-397d35e2db6c"
      },
      "outputs": [
        {
          "name": "stdout",
          "output_type": "stream",
          "text": [
            "Best parameters found: {'rmse': {'n_epochs': 15, 'lr_all': 0.01, 'reg_all': 0.1}, 'mae': {'n_epochs': 15, 'lr_all': 0.01, 'reg_all': 0.1}}\n",
            "Best RMSE: 0.935255545858\n",
            "Best MAE: 0.7412732460046921\n"
          ]
        }
      ],
      "source": [
        "# We determine the best parameters n_epochs, lr_all and reg_all using GridSearchCV for the model SVD\n",
        "params = {'n_epochs': [5, 10, 15], 'lr_all': [0.002, 0.005, 0.01], 'reg_all': [0.02, 0.1, 0.2]}\n",
        "\n",
        "svd = SVD()\n",
        "\n",
        "grid_search = GridSearchCV(SVD, params, measures=['rmse', 'mae'], cv=3)\n",
        "\n",
        "grid_search.fit(data)\n",
        "\n",
        "print(\"Best parameters found:\", grid_search.best_params)\n",
        "print(\"Best RMSE:\", grid_search.best_score['rmse'])\n",
        "print(\"Best MAE:\", grid_search.best_score['mae'])"
      ]
    },
    {
      "cell_type": "code",
      "execution_count": 7,
      "metadata": {
        "colab": {
          "base_uri": "https://localhost:8080/"
        },
        "id": "xxiH_plmHZWT",
        "outputId": "69c44e44-4718-4077-b562-34923b28ab17"
      },
      "outputs": [
        {
          "name": "stdout",
          "output_type": "stream",
          "text": [
            "Best parameters found for SVD++: {'rmse': {'n_epochs': 15, 'lr_all': 0.01, 'reg_all': 0.02}, 'mae': {'n_epochs': 15, 'lr_all': 0.01, 'reg_all': 0.02}}\n",
            "Best RMSE for SVD++: 0.9294371515556997\n",
            "Best MAE for SVD++: 0.7288864429677684\n"
          ]
        }
      ],
      "source": [
        "# Let's find the same parameters for the algorithm SVD++ (it takes more than 20 minutes)\n",
        "svdpp = SVDpp()\n",
        "\n",
        "grid_search_svdpp = GridSearchCV(SVDpp, params, measures=['rmse', 'mae'], cv=3)\n",
        "grid_search_svdpp.fit(data)\n",
        "\n",
        "print(\"Best parameters found for SVD++:\", grid_search_svdpp.best_params)\n",
        "print(\"Best RMSE for SVD++:\", grid_search_svdpp.best_score['rmse'])\n",
        "print(\"Best MAE for SVD++:\", grid_search_svdpp.best_score['mae'])"
      ]
    },
    {
      "cell_type": "code",
      "execution_count": 8,
      "metadata": {
        "colab": {
          "base_uri": "https://localhost:8080/"
        },
        "id": "_XrR4Ou5HZTi",
        "outputId": "004f5767-6ca8-4003-ea6f-4237d50a3048"
      },
      "outputs": [
        {
          "name": "stdout",
          "output_type": "stream",
          "text": [
            "Best parameters found for NMF: {'rmse': {'n_factors': 10, 'n_epochs': 15, 'reg_pu': 0.1, 'reg_qi': 0.2}, 'mae': {'n_factors': 5, 'n_epochs': 15, 'reg_pu': 0.2, 'reg_qi': 0.2}}\n",
            "Best RMSE for NMF: 0.965012061745123\n",
            "Best MAE for NMF: 0.7529903892877684\n"
          ]
        }
      ],
      "source": [
        "# Let's find the same parameters for the Non-negative Matrix Factorization (NMF) algorithm\n",
        "nmf = NMF()\n",
        "\n",
        "param_nmf = {'n_factors': [5, 10, 15], 'n_epochs': [10, 15], 'reg_pu': [0.02, 0.1, 0.2], 'reg_qi': [0.02, 0.1, 0.2]}\n",
        "grid_search_nmf = GridSearchCV(NMF, param_nmf, measures=['rmse', 'mae'], cv=3)\n",
        "grid_search_nmf.fit(data)\n",
        "\n",
        "print(\"Best parameters found for NMF:\", grid_search_nmf.best_params)\n",
        "print(\"Best RMSE for NMF:\", grid_search_nmf.best_score['rmse'])\n",
        "print(\"Best MAE for NMF:\", grid_search_nmf.best_score['mae'])"
      ]
    },
    {
      "cell_type": "markdown",
      "metadata": {
        "id": "oeWqTv8ksCI9"
      },
      "source": [
        "Let's analyze the metrics that we can observe as a result of code execution:\n",
        "\n",
        "**RMSE Root Mean Squared Error** (testset): Root Mean Squared Error between actual and predicted ratings on the test data set. The smaller the value, the better.\n",
        "\n",
        "**MAE Mean Absolute Error** (testset): Mean absolute error between actual and predicted ratings on the test data set. The smaller the value, the better.\n",
        "\n",
        "**Fit time**: The time required to train the model on each section of data. This is usually measured in seconds.\n",
        "\n",
        "**Test time**: The time required to predict the ratings for the test data set. This is also usually measured in seconds.\n",
        "\n",
        "---\n",
        "\n",
        "*Having read the results, we can say that the SVD and SVD++ methods showed better results than the NMF method.\n",
        "SVD++ showed the best result, but it needs much more time to train the model and get the necessary data.*"
      ]
    }
  ],
  "metadata": {
    "colab": {
      "provenance": []
    },
    "kernelspec": {
      "display_name": "Python 3",
      "name": "python3"
    },
    "language_info": {
      "codemirror_mode": {
        "name": "ipython",
        "version": 3
      },
      "file_extension": ".py",
      "mimetype": "text/x-python",
      "name": "python",
      "nbconvert_exporter": "python",
      "pygments_lexer": "ipython3",
      "version": "3.12.0"
    }
  },
  "nbformat": 4,
  "nbformat_minor": 0
}
