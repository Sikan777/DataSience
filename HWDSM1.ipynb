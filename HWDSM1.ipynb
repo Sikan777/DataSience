{
 "cells": [
  {
   "cell_type": "markdown",
   "id": "022bfc51-cc2e-46b3-acd4-9fbdf81f1ef6",
   "metadata": {},
   "source": [
    "Імпортуємо необхідні бібліотеки"
   ]
  },
  {
   "cell_type": "code",
   "execution_count": 1,
   "id": "bb1953b7-c232-4f4d-8e4b-16e6a6f61f7c",
   "metadata": {},
   "outputs": [],
   "source": [
    "import numpy as np\n"
   ]
  },
  {
   "cell_type": "markdown",
   "id": "7e99afe4-3750-4485-aa5f-fd83f91817b3",
   "metadata": {},
   "source": [
    "1. Створіть одновимірний масив (вектор) з першими 10-ма натуральними числами та виведіть його значення."
   ]
  },
  {
   "cell_type": "code",
   "execution_count": 2,
   "id": "34f1e2ac-3f15-44d8-ad7b-adbf37396b43",
   "metadata": {},
   "outputs": [
    {
     "name": "stdout",
     "output_type": "stream",
     "text": [
      "[ 1  2  3  4  5  6  7  8  9 10]\n"
     ]
    }
   ],
   "source": [
    "a = np.array([ 1, 2, 3, 4, 5, 6, 7, 8, 9, 10])\n",
    "\n",
    "print(a)"
   ]
  },
  {
   "cell_type": "markdown",
   "id": "c0a107f7-c351-4f77-856a-1e07f5fb2ba4",
   "metadata": {},
   "source": [
    "2. Створіть двовимірний масив (матрицю) розміром 3x3, заповніть його нулями та виведіть його значення.\n",
    "   "
   ]
  },
  {
   "cell_type": "code",
   "execution_count": 3,
   "id": "60914c6c-6b22-4857-a11e-7bf404074955",
   "metadata": {},
   "outputs": [
    {
     "name": "stdout",
     "output_type": "stream",
     "text": [
      "[[0. 0. 0.]\n",
      " [0. 0. 0.]\n",
      " [0. 0. 0.]]\n"
     ]
    }
   ],
   "source": [
    "m = np.zeros((3, 3), dtype=float)\n",
    "\n",
    "print(m)"
   ]
  },
  {
   "cell_type": "markdown",
   "id": "a66f4aa7-c9e0-4de9-a9ff-ee693b9954fb",
   "metadata": {},
   "source": [
    "3. Створіть масив розміром 5x5, заповніть його випадковими цілими числами в діапазоні від 1 до 10 та виведіть його значення.\n"
   ]
  },
  {
   "cell_type": "code",
   "execution_count": 4,
   "id": "7dc40613-bc6f-40e1-87e8-5249402c6f40",
   "metadata": {},
   "outputs": [
    {
     "name": "stdout",
     "output_type": "stream",
     "text": [
      "[[ 7  9  8  7 10]\n",
      " [ 6  7  1  8  3]\n",
      " [ 4  1  7  7  5]\n",
      " [ 6  9  2  3  5]\n",
      " [ 7  1  6  8  3]]\n"
     ]
    }
   ],
   "source": [
    "m = np.random.randint(1, 11, size=(5, 5))\n",
    "\n",
    "print(m) "
   ]
  },
  {
   "cell_type": "markdown",
   "id": "00f2b5c8-4d73-430c-9a21-27718270fa13",
   "metadata": {},
   "source": [
    "4. Створіть масив розміром 4x4, заповніть його випадковими дійсними числами в діапазоні від 0 до 1 та виведіть його значення."
   ]
  },
  {
   "cell_type": "code",
   "execution_count": 5,
   "id": "96f2936f-57c8-4eaa-8679-0b0253ff75c4",
   "metadata": {},
   "outputs": [
    {
     "name": "stdout",
     "output_type": "stream",
     "text": [
      "[[0.95869185 0.37722917 0.90594088 0.54349096]\n",
      " [0.23462004 0.54670697 0.60870105 0.69480689]\n",
      " [0.61057994 0.43969508 0.05816543 0.78747604]\n",
      " [0.87696159 0.01293222 0.7839641  0.47969007]]\n"
     ]
    }
   ],
   "source": [
    "m = np.random.random((4,4))\n",
    "\n",
    "print(m)"
   ]
  },
  {
   "cell_type": "markdown",
   "id": "5188e6d7-15ed-4901-bb59-cdd84548495e",
   "metadata": {},
   "source": [
    "5. Створіть два одновимірних масиви розміром 5, заповніть їх випадковими цілими числами в діапазоні від 1 до 10 та виконайте на них поелементні операції додавання, віднімання та множення."
   ]
  },
  {
   "cell_type": "code",
   "execution_count": 6,
   "id": "89630e7f-f76b-4483-b27b-217abe801f40",
   "metadata": {},
   "outputs": [
    {
     "name": "stdout",
     "output_type": "stream",
     "text": [
      "[4 8 2 5 5]\n",
      "[7 1 1 6 6]\n",
      "[11  9  3 11 11]\n",
      "[-3  7  1 -1 -1]\n",
      "[28  8  2 30 30]\n",
      "98\n"
     ]
    }
   ],
   "source": [
    "a = np.random.randint(1, 10, size=5)\n",
    "b = np.random.randint(1, 10, size=5)\n",
    "\n",
    "print(a)\n",
    "print(b)\n",
    "print(a + b)\n",
    "print(a - b)\n",
    "print(a * b)\n",
    "print(np.dot(a, b)) #скалярний добуток"
   ]
  },
  {
   "cell_type": "markdown",
   "id": "61e7cd99-52e5-414b-b8a2-ff70a6c7418e",
   "metadata": {},
   "source": [
    "6. Створіть два вектори розміром 7, заповніть довільними числами та знайдіть їх скалярний добуток."
   ]
  },
  {
   "cell_type": "code",
   "execution_count": 7,
   "id": "9a3dfb49-b7d4-4a26-a85c-977318efd882",
   "metadata": {},
   "outputs": [
    {
     "name": "stdout",
     "output_type": "stream",
     "text": [
      "[9 2 7 7 4 4 2]\n",
      "[1 5 7 6 5 6 6]\n",
      "166\n"
     ]
    }
   ],
   "source": [
    "a = np.random.randint(1, 10, size=7)\n",
    "b = np.random.randint(1, 10, size=7)\n",
    "\n",
    "print(a)\n",
    "print(b)\n",
    "\n",
    "print(np.dot(a, b)) #скалярний добуток"
   ]
  },
  {
   "cell_type": "markdown",
   "id": "37b894c6-ee0e-4ece-ba9d-2a78f398840c",
   "metadata": {},
   "source": [
    "7. Створіть дві матриці розміром 2x2 та 2x3, заповніть їх випадковими цілими числами в діапазоні від 1 до 10 та перемножте їх між собою."
   ]
  },
  {
   "cell_type": "code",
   "execution_count": 8,
   "id": "95925e03-a5be-493f-b7e6-e79a952f879c",
   "metadata": {},
   "outputs": [
    {
     "name": "stdout",
     "output_type": "stream",
     "text": [
      "[[3 4]\n",
      " [5 5]]\n",
      "[[9 9 6]\n",
      " [7 3 2]]\n",
      "[[55 39 26]\n",
      " [80 60 40]]\n"
     ]
    }
   ],
   "source": [
    "a = np.random.randint(1, 10, size=(2, 2))\n",
    "b = np.random.randint(1, 10, size=(2, 3))\n",
    "\n",
    "print(a)\n",
    "print(b)\n",
    "print(np.dot(a, b))"
   ]
  },
  {
   "cell_type": "markdown",
   "id": "6d9c60f4-5739-40db-b2a7-08a985101733",
   "metadata": {},
   "source": [
    "8. Створіть матрицю розміром 3x3, заповніть її випадковими цілими числами в діапазоні від 1 до 10 та знайдіть її обернену матрицю."
   ]
  },
  {
   "cell_type": "code",
   "execution_count": 9,
   "id": "564c729a-ee3b-4d0e-a1e8-b3628e4d4664",
   "metadata": {},
   "outputs": [
    {
     "name": "stdout",
     "output_type": "stream",
     "text": [
      "[[5 9 9]\n",
      " [2 3 5]\n",
      " [5 7 3]]\n",
      "[[-0.8125   1.125    0.5625 ]\n",
      " [ 0.59375 -0.9375  -0.21875]\n",
      " [-0.03125  0.3125  -0.09375]]\n"
     ]
    }
   ],
   "source": [
    "m = np.random.randint(1, 10, size=(3, 3))\n",
    "\n",
    "print(m)\n",
    "\n",
    "m_inv = np.linalg.inv(m) #функція inv використовуємо для оберненої матриці\n",
    "\n",
    "print(m_inv)"
   ]
  },
  {
   "cell_type": "markdown",
   "id": "8afedddc-d0fa-471b-b1b4-7c956d44a35a",
   "metadata": {},
   "source": [
    "9. Створіть матрицю розміром 4x4, заповніть її випадковими дійсними числами в діапазоні від 0 до 1 та транспонуйте її."
   ]
  },
  {
   "cell_type": "code",
   "execution_count": 10,
   "id": "20b20275-adbb-4a42-8ec5-cf8df03906d2",
   "metadata": {},
   "outputs": [
    {
     "name": "stdout",
     "output_type": "stream",
     "text": [
      "[[0.82462039 0.58640908 0.5136821  0.45796309]\n",
      " [0.58604329 0.42207506 0.25425705 0.65044513]\n",
      " [0.49569515 0.02114026 0.37339399 0.87692351]\n",
      " [0.19220203 0.41312424 0.56628879 0.71615099]]\n",
      "[[0.82462039 0.58604329 0.49569515 0.19220203]\n",
      " [0.58640908 0.42207506 0.02114026 0.41312424]\n",
      " [0.5136821  0.25425705 0.37339399 0.56628879]\n",
      " [0.45796309 0.65044513 0.87692351 0.71615099]]\n",
      "[[0.82462039 0.58604329 0.49569515 0.19220203]\n",
      " [0.58640908 0.42207506 0.02114026 0.41312424]\n",
      " [0.5136821  0.25425705 0.37339399 0.56628879]\n",
      " [0.45796309 0.65044513 0.87692351 0.71615099]]\n"
     ]
    }
   ],
   "source": [
    "m = np.random.random((4, 4)) \n",
    "m_t = m.T    # функція .Т  транспонує її. так було у конспекті.\n",
    "m_t1 = np.transpose(m)   # таким методом теж можна\n",
    "\n",
    "print(m)\n",
    "print(m_t)\n",
    "print(m_t1)"
   ]
  },
  {
   "cell_type": "markdown",
   "id": "4d92ed93-9671-4c03-96c6-436bb6945914",
   "metadata": {},
   "source": [
    "10. Створіть матрицю розміром 3x4 та вектор розміром 4, заповніть їх випадковими цілими числами в діапазоні від 1 до 10 та перемножте матрицю на вектор."
   ]
  },
  {
   "cell_type": "code",
   "execution_count": 11,
   "id": "5b1e81cb-b773-4e20-84d3-ef470a302bfe",
   "metadata": {},
   "outputs": [
    {
     "name": "stdout",
     "output_type": "stream",
     "text": [
      "[[8 1 7 8]\n",
      " [5 2 2 6]\n",
      " [5 1 6 9]]\n",
      "[3 3 6 7]\n",
      "[125  75 117]\n"
     ]
    }
   ],
   "source": [
    "m = np.random.randint(1, 10, size = (3, 4)) \n",
    "a = np.random.randint(1, 10, size = 4) \n",
    "\n",
    "print(m)\n",
    "print(a)\n",
    "print(np.dot(m, a))"
   ]
  },
  {
   "cell_type": "markdown",
   "id": "a5889526-0545-4a84-b752-fac335b23be0",
   "metadata": {},
   "source": [
    "11. Створіть матрицю розміром 2x3 та вектор розміром 3, заповніть їх випадковими дійсними числами в діапазоні від 0 до 1 та перемножте матрицю на вектор."
   ]
  },
  {
   "cell_type": "code",
   "execution_count": 12,
   "id": "fd4daabc-a953-472c-9331-0adf5984ab57",
   "metadata": {},
   "outputs": [
    {
     "name": "stdout",
     "output_type": "stream",
     "text": [
      "[[0.9538704  0.43348551 0.93216245]\n",
      " [0.29522812 0.13171103 0.09979692]]\n",
      "[0.23304046 0.88430226 0.19758274]\n",
      "[0.78980183 0.20499061]\n",
      "[0.78980183 0.20499061]\n"
     ]
    }
   ],
   "source": [
    "m = np.random.random((2, 3))\n",
    "a = np.random.random(3)\n",
    "\n",
    "print(m)\n",
    "print(a)\n",
    "print(np.dot(m, a)) # можна так\n",
    "print(m.dot(a)) # на деяких статтях так"
   ]
  },
  {
   "cell_type": "markdown",
   "id": "38b5c591-a3fa-47e5-8d32-6e1b0dc3a59c",
   "metadata": {},
   "source": [
    "12. Створіть дві матриці розміром 2x2, заповніть їх випадковими цілими числами в діапазоні від 1 до 10 та виконайте їхнє поелементне множення."
   ]
  },
  {
   "cell_type": "code",
   "execution_count": 13,
   "id": "6140fc58-e63e-4ae6-bb3d-0879f5a00d09",
   "metadata": {},
   "outputs": [
    {
     "name": "stdout",
     "output_type": "stream",
     "text": [
      "[[5 1]\n",
      " [7 2]]\n",
      "[[3 1]\n",
      " [7 6]]\n",
      "[[15  1]\n",
      " [49 12]]\n"
     ]
    }
   ],
   "source": [
    "m1 = np.random.randint(1, 10, size = (2, 2))\n",
    "m2 = np.random.randint(1, 10, size = (2, 2))\n",
    "\n",
    "print(m1)\n",
    "print(m2)\n",
    "\n",
    "print(m1 * m2) #якщо я правильно зрозумів \"поелементне множення\" - це то."
   ]
  },
  {
   "cell_type": "markdown",
   "id": "a0b87c95-f23a-4d30-bb00-94279f8ba4c5",
   "metadata": {},
   "source": [
    "13. Створіть дві матриці розміром 2x2, заповніть їх випадковими цілими числами в діапазоні від 1 до 10 та знайдіть їх добуток."
   ]
  },
  {
   "cell_type": "code",
   "execution_count": 14,
   "id": "226754f4-a950-425c-8741-ec92361fce53",
   "metadata": {},
   "outputs": [
    {
     "name": "stdout",
     "output_type": "stream",
     "text": [
      "[[1 1]\n",
      " [6 6]]\n",
      "36\n"
     ]
    }
   ],
   "source": [
    "m1 = np.random.randint(1, 10, size = (2, 2))\n",
    "\n",
    "print(m1)\n",
    "print(m1.prod()) # це агрегування пережмноєжує елементи\n"
   ]
  },
  {
   "cell_type": "markdown",
   "id": "ebcdccb1-bc5d-405d-8c9a-94b8cebfae7a",
   "metadata": {},
   "source": [
    "14. Створіть матрицю розміром 5x5, заповніть її випадковими цілими числами в діапазоні від 1 до 100 та знайдіть суму елементів матриці."
   ]
  },
  {
   "cell_type": "code",
   "execution_count": 15,
   "id": "f9dde86b-0c81-4444-8bcf-f7776a18c41a",
   "metadata": {},
   "outputs": [
    {
     "name": "stdout",
     "output_type": "stream",
     "text": [
      "[[18  1 38 27 10]\n",
      " [65 50  5 30 70]\n",
      " [42 92 36 61 66]\n",
      " [28 45 93 57 31]\n",
      " [46 76 13 69 26]]\n",
      "1095\n"
     ]
    }
   ],
   "source": [
    "m = np.random.randint(1, 100, size = (5, 5))\n",
    "print(m)\n",
    "print(m.sum())"
   ]
  },
  {
   "cell_type": "markdown",
   "id": "7f715a88-dfbc-4b24-8b19-d6837916c7bd",
   "metadata": {},
   "source": [
    "15. Створіть дві матриці розміром 4x4, заповніть їх випадковими цілими числами в діапазоні від 1 до 10 та знайдіть їхню різницю."
   ]
  },
  {
   "cell_type": "code",
   "execution_count": 16,
   "id": "83296d24-b89b-44e8-9564-b48eb5590bc6",
   "metadata": {},
   "outputs": [
    {
     "name": "stdout",
     "output_type": "stream",
     "text": [
      "[[2 8 8 5]\n",
      " [8 5 5 4]\n",
      " [4 1 8 6]\n",
      " [2 9 8 9]]\n",
      "[[8 4 2 7]\n",
      " [2 3 3 4]\n",
      " [6 7 8 9]\n",
      " [8 5 4 9]]\n",
      "[[-6  4  6 -2]\n",
      " [ 6  2  2  0]\n",
      " [-2 -6  0 -3]\n",
      " [-6  4  4  0]]\n"
     ]
    }
   ],
   "source": [
    "m = np.random.randint(1, 10, size=(4, 4))\n",
    "n = np.random.randint(1, 10, size=(4, 4))\n",
    "\n",
    "print(m) \n",
    "print(n)\n",
    "print(m - n)"
   ]
  },
  {
   "cell_type": "markdown",
   "id": "212a2a28-5fe6-43bb-9d0a-032e1bdd6792",
   "metadata": {},
   "source": [
    "16. Створіть матрицю розміром 3x3, заповніть її випадковими дійсними числами в діапазоні від 0 до 1 та знайдіть вектор-стовпчик, що містить суму елементів кожного рядка матриці."
   ]
  },
  {
   "cell_type": "code",
   "execution_count": 17,
   "id": "d0bd11b8-02fa-4df0-a393-2e4916fe55f9",
   "metadata": {},
   "outputs": [
    {
     "name": "stdout",
     "output_type": "stream",
     "text": [
      "[[0.80940058 0.79742104 0.53776938]\n",
      " [0.11308229 0.16579897 0.13422657]\n",
      " [0.35948717 0.49254187 0.80940666]]\n",
      "[[2.14459101]\n",
      " [0.41310782]\n",
      " [1.6614357 ]]\n"
     ]
    }
   ],
   "source": [
    "m = np.random.random((3, 3))\n",
    "print(m)\n",
    "a = np.sum(m, axis=1, keepdims=True) \n",
    "print(a)"
   ]
  },
  {
   "cell_type": "markdown",
   "id": "cc698da8-5e14-496a-b3f7-ae85eb4c69e5",
   "metadata": {},
   "source": [
    "17. Створіть матрицю розміром 3x4 з довільними цілими числами і створінь матрицю з квадратами цих чисел."
   ]
  },
  {
   "cell_type": "code",
   "execution_count": 18,
   "id": "7e09a0bf-9129-4cf3-9a42-d9e31a3448f1",
   "metadata": {},
   "outputs": [
    {
     "name": "stdout",
     "output_type": "stream",
     "text": [
      "[[2 3 1 2]\n",
      " [1 3 1 4]\n",
      " [2 1 4 4]]\n",
      "[[ 4  9  1  4]\n",
      " [ 1  9  1 16]\n",
      " [ 4  1 16 16]]\n"
     ]
    }
   ],
   "source": [
    "m = np.random.randint(1, 5, size=(3, 4))\n",
    "r = m ** 2\n",
    "\n",
    "print(m)\n",
    "print(r)"
   ]
  },
  {
   "cell_type": "markdown",
   "id": "5191a798-682b-4141-9b6b-c993deeec8ae",
   "metadata": {},
   "source": [
    "18.Створіть вектор розміром 4, заповніть його випадковими цілими числами в діапазоні від 1 до 50 та знайдіть вектор з квадратними коренями цих чисел.\r\n"
   ]
  },
  {
   "cell_type": "code",
   "execution_count": 19,
   "id": "d05edfd7-486f-42ff-b17d-628032359b30",
   "metadata": {},
   "outputs": [
    {
     "name": "stdout",
     "output_type": "stream",
     "text": [
      "[32 16 23 19]\n",
      "[5.65685425 4.         4.79583152 4.35889894]\n"
     ]
    }
   ],
   "source": [
    "a = np.random.randint(1, 50, size=(4))\n",
    "print(a)\n",
    "b = a ** 0.5\n",
    "print(b)"
   ]
  },
  {
   "cell_type": "code",
   "execution_count": null,
   "id": "b61275a2-c87a-495d-8bb7-d6346a752e64",
   "metadata": {},
   "outputs": [],
   "source": []
  }
 ],
 "metadata": {
  "kernelspec": {
   "display_name": "Python 3 (ipykernel)",
   "language": "python",
   "name": "python3"
  },
  "language_info": {
   "codemirror_mode": {
    "name": "ipython",
    "version": 3
   },
   "file_extension": ".py",
   "mimetype": "text/x-python",
   "name": "python",
   "nbconvert_exporter": "python",
   "pygments_lexer": "ipython3",
   "version": "3.11.8"
  }
 },
 "nbformat": 4,
 "nbformat_minor": 5
}
