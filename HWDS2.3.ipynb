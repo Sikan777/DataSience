{
 "cells": [
  {
   "cell_type": "markdown",
   "id": "4924752a-f2db-4b31-869b-2b8f529c6c26",
   "metadata": {},
   "source": [
    "# Частина третя: Аналіз датасет c Kaggle.com\r\n",
    "\r\n",
    "​\r\n",
    "\r\n",
    "У цій частині домашньої роботи ми ще більше заглибимося в бібліотеку pandas та розглянемо просунутіші функції.\r\n",
    "\r\n",
    "\r\n",
    "\r\n",
    "Для цієї вправи ми використовуємо дані за Топ-50 рейтингом книг, що найбільше продаються на Amazon за 11 років (з 2009 по 2019). Датасет знаходиться у відкритому доступі на Kaggle.com. Завантажте файл csv за посиланням і перемістіть його в ту саму директорію, де знаходиться ваш робочий ноутбук (для зручності). Після цього переходьте до завдання\r\n",
    "\r\n",
    "\r\n",
    "\r\n",
    "Для виконання цієї частини домашнього завдання потрібно буде не тільки написати код, а й відповісти на супутні запитання. Там, де ви побачите виділений жирним шрифтом напис відповідь: потрібно буде вставити питання у файл і відповідь на нього.\r\n",
    "\r\n",
    "\r\n",
    "\r\n",
    "Наприклад:\r\n",
    "\r\n",
    "\r\n",
    "\r\n",
    "Яка бібліотека використовується для роботи з датафреймами у python? Відповідь: pandas\r\n",
    "\r\n",
    "\r\n",
    "Необхідно виконати:\r\n",
    "\r\n",
    "\r\n",
    "\r\n",
    "Прочитайте csv файл (використовуйте функцію read_csv)\r\n",
    "Виведіть перші п'ять рядків (використовується функція head)\r\n",
    "Виведіть розміри датасету (використовуйте атрибут shape)\r\n",
    "Відповідь: Про скільки книг зберігає дані датасет?\r\n",
    "\r\n",
    "\r\n",
    "Для кожної з книг доступні 7 змінних (колонок). Давайте розглянемо їх детальніше:\r\n",
    "\r\n",
    "\r\n",
    "\r\n",
    "Name - назва книги\r\n",
    "\r\n",
    "Author - автор\r\n",
    "\r\n",
    "User Rating - рейтинг (за 5-бальною шкалою)\r\n",
    "\r\n",
    "Reviews - кількість відгуків\r\n",
    "\r\n",
    "Price - ціна (у доларах станом на 2020 рік)\r\n",
    "\r\n",
    "Year - рік, коли книга потрапила до рейтингу Топ-50\r\n",
    "\r\n",
    "Genre - жанр\r\n",
    "\r\n",
    "\r\n",
    "\r\n",
    "Для спрощення подальшої роботи давайте трохи підправимо назви змінних. Як бачите, тут усі назви починаються з великої літери, а одна - навіть містить пробіл. Це дуже небажано і може бути досить незручним. Давайте змінимо регістр на малий, а пробіл замінимо на нижнє підкреслення (snake_style). А заразом і вивчимо корисний атрибут датафрейму: columns (можна просто присвоїти список нових імен цьому атрибуту)\r\n",
    "\r\n",
    "\r\n",
    "\r\n",
    "df.columns = ['name', 'author', 'user_rating', 'reviews', 'price', 'year', 'genre']\r\n",
    "\r\n",
    "\r\n",
    "\r\n",
    "\r\n",
    "\r\n",
    "Первинне дослідження даних\r\n",
    "\r\n",
    "\r\n",
    "\r\n",
    "Перевірте, чи у всіх рядків вистачає даних: виведіть кількість пропусків (na) у кожному зі стовпців (використовуйте функції isna та sum)\r\n",
    "Відповідь: Чи є в якихось змінних пропуски? (Так / ні)\r\n",
    "Перевірте, які є унікальні значення в колонці genre (використовуйте функцію unique)\r\n",
    "Відповідь: Які є унікальні жанри?\r\n",
    "Тепер подивіться на розподіл цін: побудуйте діаграму (використовуйте kind='hist')\r\n",
    "Визначте, яка ціна у нас максимальна, мінімальна, середня, медіанна (використовуйте функції max, min, mean, median)\r\n",
    "Відповідь: Максимальна ціна?\r\n",
    "Відповідь: Мінімальна ціна?\r\n",
    "Відповідь: Середня ціна?\r\n",
    "Відповідь: Медіанна ціна?\r\n",
    "\r\n",
    "\r\n",
    "\r\n",
    "\r\n",
    "Пошук та сортування даних\r\n",
    "\r\n",
    "​\r\n",
    "\r\n",
    "Відповідь: Який рейтинг у датасеті найвищий? Відповідь:\r\n",
    "Відповідь: Скільки книг мають такий рейтинг? Відповідь:\r\n",
    "Відповідь: Яка книга має найбільше відгуків? Відповідь:\r\n",
    "Відповідь: З тих книг, що потрапили до Топ-50 у 2015 році, яка книга найдорожча (можна використати проміжний датафрейм)? Відповідь:\r\n",
    "Відповідь: Скільки книг жанру Fiction потрапили до Топ-50 у 2010 році (використовуйте &)? Відповідь:\r\n",
    "Відповідь: Скільки книг з рейтингом 4.9 потрапило до рейтингу у 2010 та 2011 роках (використовуйте | або функцію isin)? Відповідь:\r\n",
    "І насамкінець, давайте відсортуємо за зростанням ціни всі книги, які потрапили до рейтингу в 2015 році і коштують дешевше за 8 доларів (використовуйте функцію sort_values).\r\n",
    "Відповідь: Яка книга остання у відсортованому списку? Відповідь:\r\n",
    "\r\n",
    "\r\n",
    "\r\n",
    "\r\n",
    "Агрегування даних та з'єднання таблиць\r\n",
    "\r\n",
    "​\r\n",
    "\r\n",
    "Остання секція цього домашнього завдання включає просунутіші функції. Але не хвилюйтеся, pandas робить усі операції простими та зрозумілими.\r\n",
    "\r\n",
    "\r\n",
    "\r\n",
    "Для початку давайте подивимося на максимальну та мінімальну ціни для кожного з жанрів (використовуйте функції groupby та agg, для підрахунку мінімальних та максимальних значень використовуйте max та min). Не беріть усі стовпці, виберіть тільки потрібні вам\r\n",
    "Відповідь: Максимальна ціна для жанру Fiction: Відповідь\r\n",
    "Відповідь: Мінімальна ціна для жанру Fiction: Відповідь\r\n",
    "Відповідь: Максимальна ціна для жанру Non Fiction: Відповідь\r\n",
    "Відповідь: Мінімальна ціна для жанру Non Fiction: Відповідь\r\n",
    "Тепер створіть новий датафрейм, який вміщатиме кількість книг для кожного з авторів (використовуйте функції groupby та agg, для підрахунку кількості використовуйте count). Не беріть усі стовпці, виберете тільки потрібні\r\n",
    "Відповідь: Якої розмірності вийшла таблиця? Відповідь:\r\n",
    "Відповідь: Який автор має найбільше книг? Відповідь:\r\n",
    "Відповідь: Скільки книг цього автора? Відповідь:\r\n",
    "Тепер створіть другий датафрейм, який буде вміщати середній рейтинг для кожного автора (використовуйте функції groupby та agg, для підрахунку середнього значення використовуйте mean). Не беріть усі стовпці, виберете тільки потрібні\r\n",
    "Відповідь: У якого автора середній рейтинг мінімальний? Відповідь:\r\n",
    "Відповідь: Який у цього автора середній рейтинг? Відповідь:\r\n",
    "З'єднайте останні два датафрейми так, щоб для кожного автора було видно кількість книг та середній рейтинг (Використовуйте функцію concat з параметром axis=1). Збережіть результат у змінну\r\n",
    "Відсортуйте датафрейм за зростаючою кількістю книг та зростаючим рейтингом (використовуйте функцію sort_values)\r\n",
    "Відповідь: Який автор перший у списку?\r\n",
    "\r\n",
    "\r\n",
    "Робота здається у вигляді Jupyter файлу Hw2.3.ipynb\r\n",
    "\r\n",
    "\r\n",
    "\r\n",
    "\r\n",
    "\r\n",
    "Візуалізація\r\n",
    "\r\n",
    "​\r\n",
    "\r\n",
    "Для кожного з попередніх завдань:\r\n",
    "\r\n",
    "\r\n",
    "\r\n",
    "Hw2.1.ipynb\r\n",
    "Hw2.2.ipynb\r\n",
    "Hw2.3.ipynb\r\n",
    "\r\n",
    "\r\n",
    "додайте від 3 до 5 графіків функцій різного типу на ваш вибір. Задайте графікам оформлення, щоб кожен графік у своїй домашній роботі чимось відрізнявся і не був схожим на інші. Можна використовувати як matplotlib, так і seaborn.\r\n",
    "\r\n",
    "\r\n",
    "\r\n",
    "Не забудьте в Jupyter файл додати директиву %matplotlib inline, щоб графіки будувалися всередині документа.\r\n",
    "\r\n",
    "\r\n",
    "Дз повинно бути виконано у Jupyter Nootebook,(або Google Colab) і задеплоїне на Гітхаб у вигляді файлу .ipynb"
   ]
  },
  {
   "cell_type": "markdown",
   "id": "750399eb-5780-4df0-8494-d2f75b782f1b",
   "metadata": {},
   "source": [
    "# Імпортуємо бібліотеки\n"
   ]
  },
  {
   "cell_type": "code",
   "execution_count": 1,
   "id": "b0abad51-8904-49d1-ba2a-5178bf6de6dd",
   "metadata": {},
   "outputs": [],
   "source": [
    "import pandas as pd\n",
    "import re\n",
    "import matplotlib.pyplot as plt"
   ]
  },
  {
   "cell_type": "markdown",
   "id": "00bfe6fe-f8e5-416c-beeb-b965e46de904",
   "metadata": {},
   "source": [
    "## Прочитайте csv файл (використовуйте функцію read_csv) Виведіть перші п'ять рядків (використовується функція head)"
   ]
  },
  {
   "cell_type": "code",
   "execution_count": 2,
   "id": "e9577f85-5c85-4fb3-be08-5b52128503dc",
   "metadata": {},
   "outputs": [
    {
     "name": "stdout",
     "output_type": "stream",
     "text": [
      "                                                Name  \\\n",
      "0                      10-Day Green Smoothie Cleanse   \n",
      "1                                  11/22/63: A Novel   \n",
      "2            12 Rules for Life: An Antidote to Chaos   \n",
      "3                             1984 (Signet Classics)   \n",
      "4  5,000 Awesome Facts (About Everything!) (Natio...   \n",
      "\n",
      "                     Author  User Rating  Reviews  Price  Year        Genre  \n",
      "0                  JJ Smith          4.7    17350      8  2016  Non Fiction  \n",
      "1              Stephen King          4.6     2052     22  2011      Fiction  \n",
      "2        Jordan B. Peterson          4.7    18979     15  2018  Non Fiction  \n",
      "3             George Orwell          4.7    21424      6  2017      Fiction  \n",
      "4  National Geographic Kids          4.8     7665     12  2019  Non Fiction  \n"
     ]
    }
   ],
   "source": [
    "df = pd.read_csv(\"bestsellers with categories.csv\")\n",
    "print(df.head())"
   ]
  },
  {
   "cell_type": "markdown",
   "id": "b2090841-4ec1-46c5-b3b7-b4a716219904",
   "metadata": {},
   "source": [
    "## Виведіть розміри датасету (використовуйте атрибут shape)"
   ]
  },
  {
   "cell_type": "code",
   "execution_count": 3,
   "id": "9d096768-1334-42ad-a61e-b06ddae816cd",
   "metadata": {},
   "outputs": [
    {
     "name": "stdout",
     "output_type": "stream",
     "text": [
      "(550, 7)\n"
     ]
    }
   ],
   "source": [
    "print(df.shape)"
   ]
  },
  {
   "cell_type": "markdown",
   "id": "c17fa590-9179-4829-815a-eabfe5d2d7dc",
   "metadata": {},
   "source": [
    "## Шукаємо унікальні назви, так як книга може бути перевидана"
   ]
  },
  {
   "cell_type": "code",
   "execution_count": 4,
   "id": "816df8ef-e945-42b8-a766-5a9ffc6cea2f",
   "metadata": {},
   "outputs": [
    {
     "name": "stdout",
     "output_type": "stream",
     "text": [
      "0      False\n",
      "1      False\n",
      "2      False\n",
      "3      False\n",
      "4      False\n",
      "       ...  \n",
      "545    False\n",
      "546    False\n",
      "547     True\n",
      "548     True\n",
      "549     True\n",
      "Length: 550, dtype: bool\n"
     ]
    }
   ],
   "source": [
    "# Find unique books - using the \n",
    "print(df.duplicated(subset=['Name']))"
   ]
  },
  {
   "cell_type": "code",
   "execution_count": 5,
   "id": "072251d6-1137-440c-8f0f-64779b42bf51",
   "metadata": {},
   "outputs": [
    {
     "name": "stdout",
     "output_type": "stream",
     "text": [
      "Number of unique elements: 351\n"
     ]
    }
   ],
   "source": [
    "unique_count = df['Name'].nunique()\n",
    "print(\"Number of unique elements:\", unique_count)"
   ]
  },
  {
   "cell_type": "markdown",
   "id": "3bc7499d-363f-474c-b003-5bec6756ee14",
   "metadata": {},
   "source": [
    "Про скільки книг зберігає дані датасет?<dr>\n",
    "Відповідь: 550 і 351 унікальних значень."
   ]
  },
  {
   "cell_type": "markdown",
   "id": "bbf79827-51f0-4551-96ce-a72f2b52c538",
   "metadata": {},
   "source": [
    "## Для спрощення подальшої роботи давайте трохи підправимо назви змінних."
   ]
  },
  {
   "cell_type": "code",
   "execution_count": 6,
   "id": "dff550f6-0598-4385-b68c-9ae287e9c64e",
   "metadata": {},
   "outputs": [
    {
     "name": "stdout",
     "output_type": "stream",
     "text": [
      "Index(['name', 'author', 'user_rating', 'reviews', 'price', 'year', 'genre'], dtype='object')\n"
     ]
    }
   ],
   "source": [
    "df.columns = ['name', 'author', 'user_rating', 'reviews', 'price', 'year', 'genre']\n",
    "\n",
    "print(df.columns)"
   ]
  },
  {
   "cell_type": "markdown",
   "id": "ff7a76a4-8420-42ae-a80e-89676b90cbeb",
   "metadata": {},
   "source": [
    "# Первинне дослідження даних"
   ]
  },
  {
   "cell_type": "markdown",
   "id": "720ad214-45a7-43a6-81ee-8b3e945c6b02",
   "metadata": {},
   "source": [
    "## Перевірте, чи у всіх рядків вистачає даних: виведіть кількість пропусків (na) у кожному зі стовпців (використовуйте функції isna та sum)"
   ]
  },
  {
   "cell_type": "code",
   "execution_count": 7,
   "id": "09d4d6f9-898a-40d3-b811-04341a5bc241",
   "metadata": {},
   "outputs": [
    {
     "name": "stdout",
     "output_type": "stream",
     "text": [
      "Missing values:\n",
      " name           0\n",
      "author         0\n",
      "user_rating    0\n",
      "reviews        0\n",
      "price          0\n",
      "year           0\n",
      "genre          0\n",
      "dtype: int64\n",
      "\n",
      " name           0.0\n",
      "author         0.0\n",
      "user_rating    0.0\n",
      "reviews        0.0\n",
      "price          0.0\n",
      "year           0.0\n",
      "genre          0.0\n",
      "dtype: float64\n"
     ]
    }
   ],
   "source": [
    "missing_values = df.isnull().sum()\n",
    "print(\"Missing values:\\n\", missing_values)\n",
    "\n",
    "missing_values_proportion = missing_values / df.shape[0]\n",
    "print(\"\\n\",missing_values_proportion)"
   ]
  },
  {
   "cell_type": "markdown",
   "id": "291cc5f6-83d7-46f1-a560-ab106345ba75",
   "metadata": {},
   "source": [
    "Чи є в якихось змінних пропуски? Відповідь: Ні"
   ]
  },
  {
   "cell_type": "markdown",
   "id": "1eafd4b0-0446-41d7-9c6d-b36567b19826",
   "metadata": {},
   "source": [
    "## Перевірте, які є унікальні значення в колонці genre (використовуйте функцію unique)"
   ]
  },
  {
   "cell_type": "code",
   "execution_count": 8,
   "id": "648a108c-5ef9-4d63-a4fd-910f2765c3f1",
   "metadata": {},
   "outputs": [
    {
     "name": "stdout",
     "output_type": "stream",
     "text": [
      "['Non Fiction' 'Fiction']\n"
     ]
    }
   ],
   "source": [
    "unique_genres = df[\"genre\"].unique()\n",
    "print(unique_genres)"
   ]
  },
  {
   "cell_type": "markdown",
   "id": "c25fe942-f19b-4cbe-9ed6-b5044eeec977",
   "metadata": {},
   "source": [
    " Відповідь: Які є унікальні жанри? Відповідь: Так. Документальна література і художня ['Non Fiction' 'Fiction']"
   ]
  },
  {
   "cell_type": "markdown",
   "id": "f47bbd12-4a09-4e19-922b-c357e1971f20",
   "metadata": {},
   "source": [
    "## Тепер подивіться на розподіл цін: побудуйте діаграму (використовуйте kind='hist')"
   ]
  },
  {
   "cell_type": "code",
   "execution_count": 9,
   "id": "f9dd2dbe-7826-49e8-aba1-a0ada5ddcf82",
   "metadata": {},
   "outputs": [
    {
     "data": {
      "image/png": "[encoded data removed]",
      "text/plain": [
       "<Figure size 640x480 with 1 Axes>"
      ]
     },
     "metadata": {},
     "output_type": "display_data"
    }
   ],
   "source": [
    "df['price'].plot(kind='hist', bins=20, color='skyblue', edgecolor='black')\n",
    "\n",
    "plt.title('Розподіл цін')\n",
    "plt.xlabel('Ціна')\n",
    "plt.ylabel('Частота')\n",
    "\n",
    "plt.show()"
   ]
  },
  {
   "cell_type": "markdown",
   "id": "4ff75d27-ba38-4d11-b828-f87dc922b73c",
   "metadata": {},
   "source": [
    "## Визначте, яка ціна у нас максимальна, мінімальна, середня, медіанна (використовуйте функції max, min, mean, median)\n"
   ]
  },
  {
   "cell_type": "code",
   "execution_count": 10,
   "id": "1c687e52-0aba-41c0-8bfa-e79a5f7ecf7e",
   "metadata": {},
   "outputs": [
    {
     "name": "stdout",
     "output_type": "stream",
     "text": [
      "Максимальна ціна: 105\n",
      "Мінімальна ціна: 0\n",
      "Середня ціна: 13.1\n",
      "Медіанна ціна: 11.0\n"
     ]
    }
   ],
   "source": [
    "max_price = df[\"price\"].max()\n",
    "min_price = df[\"price\"].min()\n",
    "mean_price = df[\"price\"].mean()\n",
    "median_price = df[\"price\"].median()\n",
    "\n",
    "print(f\"Максимальна ціна: {max_price}\")\n",
    "print(f\"Мінімальна ціна: {min_price}\")\n",
    "print(f\"Середня ціна: {mean_price}\")\n",
    "print(f\"Медіанна ціна: {median_price}\")"
   ]
  },
  {
   "cell_type": "markdown",
   "id": "9c282d1b-b505-42af-afd9-bcc048c19345",
   "metadata": {},
   "source": [
    "Відповідь: Максимальна ціна: 105"
   ]
  },
  {
   "cell_type": "markdown",
   "id": "82ed190d-fc01-4120-9463-cf4e8d08c997",
   "metadata": {},
   "source": [
    "Відповідь: Мінімальна ціна: 0"
   ]
  },
  {
   "cell_type": "markdown",
   "id": "34fc377b-bcdf-4e69-a5d1-0539ff1aba55",
   "metadata": {},
   "source": [
    "Відповідь: Середня ціна: 13.1"
   ]
  },
  {
   "cell_type": "markdown",
   "id": "d100a7b6-dd2e-41e4-a2c1-8c450789286d",
   "metadata": {},
   "source": [
    "Відповідь: Медіанна ціна: 11.0"
   ]
  },
  {
   "cell_type": "markdown",
   "id": "a0e6a51f-24e4-4848-b698-02de6946051a",
   "metadata": {},
   "source": [
    "# Пошук та сортування даних"
   ]
  },
  {
   "cell_type": "code",
   "execution_count": 11,
   "id": "5ac08a75-fe83-4c63-8c3c-9879ec2f3c24",
   "metadata": {},
   "outputs": [
    {
     "name": "stdout",
     "output_type": "stream",
     "text": [
      "4.9\n"
     ]
    }
   ],
   "source": [
    "max_rating = df[\"user_rating\"].max()\n",
    "print(max_rating)"
   ]
  },
  {
   "cell_type": "markdown",
   "id": "08443c2c-f514-468e-9743-76c784e68b44",
   "metadata": {},
   "source": [
    "Який рейтинг у датасеті найвищий? Відповідь: 4.9 - це найвищий рейтинг у дата сеті."
   ]
  },
  {
   "cell_type": "code",
   "execution_count": 12,
   "id": "e0430168-22fe-43ea-9316-fb3b36b4d7d4",
   "metadata": {},
   "outputs": [
    {
     "name": "stdout",
     "output_type": "stream",
     "text": [
      "Кількість книг з найвищим рейтингом: 52\n"
     ]
    }
   ],
   "source": [
    "top_rated_books = df[df[\"user_rating\"] == max_rating]\n",
    "print(f\"Кількість книг з найвищим рейтингом: {len(top_rated_books)}\")"
   ]
  },
  {
   "cell_type": "markdown",
   "id": "8cc733e1-b6a0-4ee8-a93a-ea6350fd33ca",
   "metadata": {},
   "source": [
    "Відповідь: Скільки книг мають такий рейтинг? Відповідь: 52 - стільки книг мають такий рейтинг."
   ]
  },
  {
   "cell_type": "code",
   "execution_count": 13,
   "id": "345f0222-7d39-411c-af2c-cb4a2242c182",
   "metadata": {},
   "outputs": [
    {
     "name": "stdout",
     "output_type": "stream",
     "text": [
      "87841\n",
      "Kнига має найбільше відгу \n",
      "ків:                         name       author  user_rating  reviews  price  year  \\\n",
      "534  Where the Crawdads Sing  Delia Owens          4.8    87841     15  2019   \n",
      "\n",
      "       genre  \n",
      "534  Fiction  \n"
     ]
    }
   ],
   "source": [
    "max_review = df[\"reviews\"].max()\r\n",
    "print(max_review)\r\n",
    "top_reviewed_books = df[df[\"reviews\"] == max_review]\r\n",
    "\r\n",
    "print(f\"Kнига має найбільше відгу \\nків: {top_reviewed_books}\")"
   ]
  },
  {
   "cell_type": "markdown",
   "id": "173c4da9-6377-4fd2-b613-3a6cf01b7d24",
   "metadata": {},
   "source": [
    "Яка книга має найбільше відгуків? Відповідь: 534  Where the Crawdads Sing - 87841 відгуків"
   ]
  },
  {
   "cell_type": "code",
   "execution_count": 15,
   "id": "9474c706-ffe1-4b78-a65f-d405e79688b9",
   "metadata": {},
   "outputs": [
    {
     "name": "stdout",
     "output_type": "stream",
     "text": [
      "Hайдорожча Kнига у 2015 році: Publication Manual of the American Psychological Association, 6th Edition\n"
     ]
    }
   ],
   "source": [
    "books_2015 = df[df[\"year\"] == 2015]\n",
    "\n",
    "most_expensive = books_2015[\"price\"].max()\n",
    "\n",
    "most_expensive_book_name = books_2015.loc[books_2015[\"price\"] == most_expensive, \"name\"].item()\n",
    "print(f\"Hайдорожча Kнига у 2015 році: {most_expensive_book_name}\")"
   ]
  },
  {
   "cell_type": "markdown",
   "id": "2bebeca3-9325-4339-87ed-e08c206a0cab",
   "metadata": {},
   "source": [
    "З тих книг, що потрапили до Топ-50 у 2015 році, яка книга найдорожча (можна використати проміжний датафрейм)? Відповідь: Publication Manual of the American Psychological Association, 6th Edition\n"
   ]
  },
  {
   "cell_type": "code",
   "execution_count": 16,
   "id": "f09f7961-bc5c-449a-a11a-64c65bced3d1",
   "metadata": {},
   "outputs": [
    {
     "name": "stdout",
     "output_type": "stream",
     "text": [
      "Кількість книг Fiction у Топ-50 2010 року: 20\n"
     ]
    }
   ],
   "source": [
    "fiction_books_2010 = df[(df['genre'] == 'Fiction') & (df['year'] == 2010)]\n",
    "\n",
    "print(f\"Кількість книг Fiction у Топ-50 2010 року: {len(fiction_books_2010)}\")"
   ]
  },
  {
   "cell_type": "markdown",
   "id": "dac90dea-b284-42db-b6d6-2fa635234867",
   "metadata": {},
   "source": [
    " Скільки книг жанру Fiction потрапили до Топ-50 у 2010 році (використовуйте &)? Відповідь: 20"
   ]
  },
  {
   "cell_type": "code",
   "execution_count": 18,
   "id": "d2dd5836-8a5d-4bdb-b4b5-46286f58b920",
   "metadata": {},
   "outputs": [
    {
     "name": "stdout",
     "output_type": "stream",
     "text": [
      "Кількість книг з рейтингом 4.9 у 2010 та 2011 роках: 1\n"
     ]
    }
   ],
   "source": [
    "books_49_rating = df[(df['user_rating'] == 4.9) & (df['year'].isin([2010, 2011]))]\r\n",
    "\r\n",
    "books_count = len(books_49_rating)\r\n",
    "\r\n",
    "print(\"Кількість книг з рейтингом 4.9 у 2010 та 2011 роках:\", books_count)"
   ]
  },
  {
   "cell_type": "markdown",
   "id": "aa0fd406-20ee-41fc-b3d2-e8c43eb0b155",
   "metadata": {},
   "source": [
    "Скільки книг з рейтингом 4.9 потрапило до рейтингу у 2010 та 2011 роках (використовуйте | або функцію isin)? Відповідь: 1"
   ]
  },
  {
   "cell_type": "markdown",
   "id": "31a9c0f9-f57a-4d51-bf73-ed5cfb3f24a7",
   "metadata": {},
   "source": [
    "## І насамкінець, давайте відсортуємо за зростанням ціни всі книги, які потрапили до рейтингу в 2015 році і коштують дешевше за 8 доларів (використовуйте функцію sort_values)."
   ]
  },
  {
   "cell_type": "code",
   "execution_count": 19,
   "id": "17d4515a-4929-4f80-831e-a7e7fb7df8f0",
   "metadata": {},
   "outputs": [
    {
     "name": "stdout",
     "output_type": "stream",
     "text": [
      "                                                  name              author  \\\n",
      "507                              To Kill a Mockingbird          Harper Lee   \n",
      "210                      Laugh-Out-Loud Jokes for Kids         Rob Elliott   \n",
      "206                         Knock-Knock Jokes for Kids         Rob Elliott   \n",
      "111                                    First 100 Words        Roger Priddy   \n",
      "123                               Giraffes Can't Dance       Giles Andreae   \n",
      "54   Creative Haven Creative Cats Coloring Book (Ad...     Marjorie Sarnat   \n",
      "63                      Dear Zoo: A Lift-the-Flap Book        Rod Campbell   \n",
      "89   Dover Creative Haven Art Nouveau Animal Design...         Marty Noble   \n",
      "478                        The Very Hungry Caterpillar          Eric Carle   \n",
      "201  Killing Reagan: The Violent Assault That Chang...       Bill O'Reilly   \n",
      "28                        Baby Touch and Feel: Animals                  DK   \n",
      "224                                   Love You Forever       Robert Munsch   \n",
      "55   Creative Haven Owls Coloring Book (Adult Color...     Marjorie Sarnat   \n",
      "17      Adult Coloring Book: Stress Relieving Patterns  Blue Star Coloring   \n",
      "376  The Four Agreements: A Practical Guide to Pers...     Don Miguel Ruiz   \n",
      "16   Adult Coloring Book: Stress Relieving Animal D...  Blue Star Coloring   \n",
      "253              Old School (Diary of a Wimpy Kid #10)         Jeff Kinney   \n",
      "\n",
      "     user_rating  reviews  price  year        genre  \n",
      "507          4.8    26234      0  2015      Fiction  \n",
      "210          4.6     6990      4  2015  Non Fiction  \n",
      "206          4.5     3673      4  2015  Non Fiction  \n",
      "111          4.7    17323      4  2015  Non Fiction  \n",
      "123          4.8    14038      4  2015      Fiction  \n",
      "54           4.8     4022      4  2015  Non Fiction  \n",
      "63           4.8    10922      5  2015      Fiction  \n",
      "89           4.6     2134      5  2015  Non Fiction  \n",
      "478          4.9    19546      5  2015      Fiction  \n",
      "201          4.6     5235      5  2015  Non Fiction  \n",
      "28           4.6     5360      5  2015  Non Fiction  \n",
      "224          4.8    18613      5  2015      Fiction  \n",
      "55           4.8     3871      5  2015  Non Fiction  \n",
      "17           4.4     2951      6  2015  Non Fiction  \n",
      "376          4.7    23308      6  2015  Non Fiction  \n",
      "16           4.6     2925      6  2015  Non Fiction  \n",
      "253          4.8     6169      7  2015      Fiction  \n",
      "\n",
      "The last book:\n",
      " name           Old School (Diary of a Wimpy Kid #10)\n",
      "author                                   Jeff Kinney\n",
      "user_rating                                      4.8\n",
      "reviews                                         6169\n",
      "price                                              7\n",
      "year                                            2015\n",
      "genre                                        Fiction\n",
      "Name: 253, dtype: object\n"
     ]
    }
   ],
   "source": [
    "books_2015 = df[df['year'] == 2015]\n",
    "cheap_books_2015 = books_2015[books_2015['price'] < 8]\n",
    "sorted_by_price = cheap_books_2015.sort_values(\"price\")\n",
    "print(sorted_by_price)\n",
    "print(\"\\nThe last book:\\n\", sorted_by_price.iloc[-1])"
   ]
  },
  {
   "cell_type": "markdown",
   "id": "9ba49e6a-2325-4f87-8acf-8faaec1269c4",
   "metadata": {},
   "source": [
    "Яка книга остання у відсортованому списку?\r\n",
    "Відповідь: Old School (Diary of a Wimpy Kid #10)"
   ]
  },
  {
   "cell_type": "markdown",
   "id": "067fd1ee-a884-479b-8190-fcf072b5344f",
   "metadata": {},
   "source": [
    "## Агрегування даних та з'єднання таблиць\n"
   ]
  },
  {
   "cell_type": "code",
   "execution_count": 20,
   "id": "5409694f-20c0-4ecc-a08a-fb01e039e652",
   "metadata": {},
   "outputs": [
    {
     "name": "stdout",
     "output_type": "stream",
     "text": [
      "             max  min\n",
      "genre                \n",
      "Fiction       82    0\n",
      "Non Fiction  105    0\n"
     ]
    }
   ],
   "source": [
    "grouped_by_genre = df.groupby(\"genre\")\n",
    "\n",
    "aggregated_prices = grouped_by_genre[\"price\"].agg([\"max\", \"min\"])\n",
    "\n",
    "print(aggregated_prices)"
   ]
  },
  {
   "cell_type": "markdown",
   "id": "2a801b1f-2edd-4d90-8c03-7bb5b742d2bf",
   "metadata": {},
   "source": [
    "Максимальна ціна для жанру Fiction: Відповідь: 82"
   ]
  },
  {
   "cell_type": "markdown",
   "id": "211adc5a-9d5b-47bd-b7db-bb1a3ecf9130",
   "metadata": {},
   "source": [
    "Мінімальна ціна для жанру Fiction? Відповідь: 0\n"
   ]
  },
  {
   "cell_type": "markdown",
   "id": "cd67c900-d4e3-4846-a32c-969faddd1577",
   "metadata": {},
   "source": [
    " Максимальна ціна для жанру Non Fiction: Відповідь: 105"
   ]
  },
  {
   "cell_type": "markdown",
   "id": "db7789d5-e4e9-4170-9d60-901571dc548d",
   "metadata": {},
   "source": [
    "Мінімальна ціна для жанру Non Fiction: Відповідь: 0"
   ]
  },
  {
   "cell_type": "markdown",
   "id": "30b87ab4-4aca-4140-8ffb-c4f6e2a38ce6",
   "metadata": {},
   "source": [
    "## Тепер створіть новий датафрейм, який вміщатиме кількість книг для кожного з авторів (використовуйте функції groupby та agg, для підрахунку кількості використовуйте count). Не беріть усі стовпці, виберете тільки потрібні"
   ]
  },
  {
   "cell_type": "code",
   "execution_count": 24,
   "id": "5f2679c6-f463-428d-bba9-cc6c094035e0",
   "metadata": {},
   "outputs": [
    {
     "name": "stdout",
     "output_type": "stream",
     "text": [
      "Size of tabel\n",
      " (248, 1)\n",
      "\n",
      " Author with most popular books(amount): \n",
      " count    12\n",
      "dtype: int64\n",
      "\n",
      " Author with most popular books(name): \n",
      " Jeff Kinney\n"
     ]
    }
   ],
   "source": [
    "grouped_by_auhtor = df.groupby(\"author\")\n",
    "aggregated_authors = grouped_by_auhtor[\"name\"].agg([\"count\"])\n",
    "\n",
    "print(\"Size of tabel\\n\", aggregated_authors.shape)\n",
    "print(\"\\n Author with most popular books(amount): \\n\", aggregated_authors.max())\n",
    "print(\"\\n Author with most popular books(name): \\n\", aggregated_authors.idxmax().iloc[0])"
   ]
  },
  {
   "cell_type": "markdown",
   "id": "e2431378-a552-4523-838d-c919b7c5808b",
   "metadata": {},
   "source": [
    "Якої розмірності вийшла таблиця? Відповідь: 248"
   ]
  },
  {
   "cell_type": "markdown",
   "id": "c0b25e38-765a-4684-80d0-6fff83b80e51",
   "metadata": {},
   "source": [
    "Який автор має найбільше книг? Відповідь: Jeff Kinney"
   ]
  },
  {
   "cell_type": "markdown",
   "id": "5b27936f-b5f1-4aae-b987-fedc39583353",
   "metadata": {},
   "source": [
    "Скільки книг цього автора? Відповідь: 12"
   ]
  },
  {
   "cell_type": "code",
   "execution_count": 26,
   "id": "cb466fae-b9af-4f9a-95bb-d52b34082291",
   "metadata": {},
   "outputs": [
    {
     "name": "stdout",
     "output_type": "stream",
     "text": [
      "Min rating:  mean    3.9\n",
      "dtype: float64\n",
      "Author with Min rating:  Donna Tartt\n"
     ]
    }
   ],
   "source": [
    "grouped_by_auhtor = df.groupby(\"author\")\n",
    "aggregated_authors_mean = grouped_by_auhtor[\"user_rating\"].agg([\"mean\"])\n",
    "#print(aggregated_authors.head())\n",
    "\n",
    "print(\"Min rating: \", aggregated_authors_mean.min())\n",
    "print(\"Author with Min rating: \", aggregated_authors_mean.idxmin().iloc[0])"
   ]
  },
  {
   "cell_type": "markdown",
   "id": "68d1701a-d864-4b7a-80ec-b4100f0a1584",
   "metadata": {},
   "source": [
    "У якого автора середній рейтинг мінімальний? Відповідь: Donna Tartt"
   ]
  },
  {
   "cell_type": "markdown",
   "id": "4a793c2e-d6e9-45b7-855b-22d37b96603d",
   "metadata": {},
   "source": [
    "Який у цього автора середній рейтинг? Відповідь: 3.9"
   ]
  },
  {
   "cell_type": "markdown",
   "id": "de330404-3513-4d23-930c-3a8f24af6209",
   "metadata": {},
   "source": [
    "## З'єднайте останні два датафрейми так, щоб для кожного автора було видно кількість книг та середній рейтинг (Використовуйте функцію concat з параметром axis=1). Збережіть результат у змінну"
   ]
  },
  {
   "cell_type": "code",
   "execution_count": 27,
   "id": "e1f2d5e0-f6a9-402f-b31a-1a11672043b4",
   "metadata": {},
   "outputs": [
    {
     "name": "stdout",
     "output_type": "stream",
     "text": [
      "                                    count      mean\n",
      "author                                             \n",
      "Abraham Verghese                        2  4.600000\n",
      "Adam Gasiewski                          1  4.400000\n",
      "Adam Mansbach                           1  4.800000\n",
      "Adir Levy                               1  4.800000\n",
      "Admiral William H. McRaven              1  4.700000\n",
      "Adult Coloring Book Designs             1  4.500000\n",
      "Alan Moore                              1  4.800000\n",
      "Alex Michaelides                        1  4.500000\n",
      "Alice Schertle                          1  4.900000\n",
      "Allie Brosh                             1  4.700000\n",
      "American Psychiatric Association        2  4.500000\n",
      "American Psychological Association     10  4.500000\n",
      "Amor Towles                             1  4.700000\n",
      "Amy Ramos                               2  4.300000\n",
      "Amy Shields                             1  4.800000\n",
      "Andy Weir                               1  4.700000\n",
      "Angie Grace                             1  4.600000\n",
      "Angie Thomas                            1  4.800000\n",
      "Ann Voskamp                             2  4.600000\n",
      "Ann Whitford Paul                       2  4.800000\n",
      "Anthony Bourdain                        1  4.800000\n",
      "Anthony Doerr                           2  4.600000\n",
      "Atul Gawande                            1  4.800000\n",
      "Audrey Niffenegger                      1  4.400000\n",
      "B. J. Novak                             2  4.800000\n",
      "Bessel van der Kolk M.D.                1  4.800000\n",
      "Bill Martin Jr.                         2  4.900000\n",
      "Bill O'Reilly                           7  4.642857\n",
      "Bill Simmons                            1  4.700000\n",
      "Blue Star Coloring                      2  4.500000\n",
      "Bob Woodward                            1  4.400000\n",
      "Brandon Stanton                         3  4.833333\n",
      "Brené Brown                            1  4.800000\n",
      "Brian Kilmeade                          1  4.600000\n",
      "Bruce Springsteen                       1  4.700000\n",
      "Carol S. Dweck                          3  4.600000\n",
      "Celeste Ng                              1  4.500000\n",
      "Charlaine Harris                        4  4.450000\n",
      "Charles Duhigg                          1  4.600000\n",
      "Charles Krauthammer                     1  4.700000\n",
      "Cheryl Strayed                          1  4.400000\n",
      "Chip Gaines                             1  4.900000\n",
      "Chip Heath                              1  4.600000\n",
      "Chris Cleave                            1  4.100000\n",
      "Chris Kyle                              1  4.600000\n",
      "Chrissy Teigen                          1  4.700000\n",
      "Christina Baker Kline                   1  4.600000\n",
      "Christopher Paolini                     1  4.600000\n",
      "Coloring Books for Adults               1  4.500000\n",
      "Craig Smith                             2  4.800000\n",
      "Crispin Boyer                           1  4.800000\n",
      "DK                                      2  4.550000\n",
      "Dale Carnegie                           5  4.700000\n",
      "Dan Brown                               3  4.200000\n",
      "Daniel H. Pink                          1  4.500000\n",
      "Daniel James Brown                      2  4.800000\n",
      "Daniel Kahneman                         2  4.600000\n",
      "Daniel Lipkowitz                        2  4.400000\n",
      "Dav Pilkey                              7  4.900000\n",
      "Dave Ramsey                             1  4.700000\n",
      "David Goggins                           1  4.800000\n",
      "David Grann                             1  4.600000\n",
      "David McCullough                        1  4.700000\n",
      "David Perlmutter MD                     1  4.600000\n",
      "David Platt                             2  4.700000\n",
      "David Zinczenko                         2  4.400000\n",
      "Deborah Diesen                          2  4.800000\n",
      "Delegates of the Constitutional",
      "        1  4.800000\n",
      "Delia Owens                             1  4.800000\n",
      "Dinah Bucholz                           1  4.700000\n",
      "Don Miguel Ruiz                         6  4.700000\n",
      "Donna Tartt                             2  3.900000\n",
      "Doug Lemov                              2  4.400000\n",
      "Dr. Seuss                               9  4.877778\n",
      "Dr. Steven R Gundry MD                  2  4.450000\n",
      "Drew Daywalt                            3  4.800000\n",
      "E L James                               6  4.233333\n",
      "Eben Alexander                          2  4.300000\n",
      "Edward Klein                            1  4.600000\n",
      "Edward M. Kennedy                       1  4.500000\n",
      "Elie Wiesel                             1  4.700000\n",
      "Elizabeth Strout                        1  4.200000\n",
      "Emily Winfield Martin                   4  4.900000\n",
      "Eric Carle                              7  4.900000\n",
      "Eric Larson                             1  4.400000\n",
      "Ernest Cline                            2  4.600000\n",
      "F. A. Hayek                             1  4.600000\n",
      "F. Scott Fitzgerald                     3  4.400000\n",
      "Francis Chan                            3  4.700000\n",
      "Fredrik Backman                         2  4.600000\n",
      "Gallup                                  9  4.000000\n",
      "Garth Stein                             2  4.700000\n",
      "Gary Chapman                           11  4.736364\n",
      "Gayle Forman                            1  4.300000\n",
      "Geneen Roth                             1  4.200000\n",
      "George Orwell                           1  4.700000\n",
      "George R. R. Martin                     2  4.550000\n",
      "George R.R. Martin                      3  4.600000\n",
      "George W. Bush                          1  4.600000\n",
      "Giles Andreae                           5  4.800000\n",
      "Gillian Flynn                           3  4.000000\n",
      "Glenn Beck                              3  4.566667\n",
      "Golden Books                            1  4.800000\n",
      "Greg Mortenson                          2  4.300000\n",
      "Harper Lee                              6  4.600000\n",
      "Heidi Murkoff                           1  4.400000\n",
      "Hillary Rodham Clinton                  1  4.600000\n",
      "Hopscotch Girls                         1  4.800000\n",
      "Howard Stern                            1  4.300000\n",
      "Ian K. Smith M.D.                       1  4.100000\n",
      "Ina Garten                              3  4.666667\n",
      "J. D. Vance                             2  4.400000\n",
      "J. K. Rowling                           2  4.850000\n",
      "J.K. Rowling                            6  4.450000\n",
      "JJ Smith                                1  4.700000\n",
      "James Comey                             1  4.700000\n",
      "James Dashner                           1  4.500000\n",
      "James Patterson                         2  4.450000\n",
      "Jay Asher                               1  4.500000\n",
      "Jaycee Dugard                           1  4.600000\n",
      "Jeff Kinney                            12  4.800000\n",
      "Jen Sincero                             4  4.700000\n",
      "Jennifer Smith                          2  4.400000\n",
      "Jill Twiss                              1  4.900000\n",
      "Jim Collins                             4  4.500000\n",
      "Joanna Gaines                           2  4.800000\n",
      "Joel Fuhrman MD                         2  4.500000\n",
      "Johanna Basford                         2  4.700000\n",
      "John Green                              5  4.660000\n",
      "John Grisham                            5  4.400000\n",
      "John Heilemann                          1  4.400000\n",
      "Jon Meacham                             1  4.500000\n",
      "Jon Stewart                             1  4.400000\n",
      "Jonathan Cahn                           1  4.600000\n",
      "Jordan B. Peterson                      1  4.700000\n",
      "Julia Child                             1  4.800000\n",
      "Justin Halpern                          1  4.700000\n",
      "Kathryn Stockett                        4  4.800000\n",
      "Keith Richards                          1  4.500000\n",
      "Ken Follett                             1  4.500000\n",
      "Kevin Kwan                              1  4.300000\n",
      "Khaled Hosseini                         1  4.300000\n",
      "Kristin Hannah                          2  4.800000\n",
      "Larry Schweikart                        1  4.600000\n",
      "Laura Hillenbrand                       5  4.800000\n",
      "Laurel Randolph                         2  4.300000\n",
      "Lin-Manuel Miranda                      1  4.900000\n",
      "Lysa TerKeurst                          2  4.750000\n",
      "M Prefontaine                           1  4.600000\n",
      "Madeleine L'Engle                       1  4.500000\n",
      "Malcolm Gladwell                        4  4.500000\n",
      "Margaret Atwood                         1  4.300000\n",
      "Margaret Wise Brown                     3  4.800000\n",
      "Marie Kondō                             4  4.500000\n",
      "Marjorie Sarnat                         2  4.800000\n",
      "Mark Hyman M.D.                         1  4.200000\n",
      "Mark Manson                             3  4.600000\n",
      "Mark Owen                               1  4.600000\n",
      "Mark R. Levin                           2  4.850000\n",
      "Mark Twain                              1  4.200000\n",
      "Markus Zusak                            2  4.600000\n",
      "Marty Noble                             1  4.600000\n",
      "Mary Ann Shaffer                        1  4.700000\n",
      "Maurice Sendak                          1  4.800000\n",
      "Melissa Hartwig Urban                   3  4.600000\n",
      "Michael Lewis                           1  4.700000\n",
      "Michael Pollan                          1  4.400000\n",
      "Michael Wolff                           1  4.200000\n",
      "Michelle Obama                          2  4.800000\n",
      "Mike Moreno                             1  4.300000\n",
      "Mitch Albom                             1  4.800000\n",
      "Muriel Barbery                          1  4.000000\n",
      "Naomi Kleinberg                         2  4.700000\n",
      "Nathan W. Pyle                          1  4.900000\n",
      "National Geographic Kids                1  4.800000\n",
      "Neil deGrasse Tyson                     1  4.700000\n",
      "Paper Peony Press                       1  4.400000\n",
      "Patrick Lencioni                        5  4.600000\n",
      "Patrick Thorpe                          1  4.900000\n",
      "Paul Kalanithi                          1  4.800000\n",
      "Paula Hawkins                           2  4.100000\n",
      "Paula McLain                            1  4.300000\n",
      "Paulo Coelho                            1  4.700000\n",
      "Pete Souza                              1  4.900000\n",
      "Peter A. Lillback                       1  4.500000\n",
      "Phil Robertson                          1  4.800000\n",
      "Pierre Dukan                            1  4.100000\n",
      "Pretty Simple Press                     1  4.600000\n",
      "R. J. Palacio                           5  4.800000\n",
      "RH Disney                               2  4.650000\n",
      "Rachel Hollis                           3  4.600000\n",
      "Raina Telgemeier                        1  4.800000\n",
      "Randall Munroe                          1  4.700000\n",
      "Randy Pausch                            1  4.700000\n",
      "Ray Bradbury                            2  4.600000\n",
      "Rebecca Skloot                          3  4.700000\n",
      "Ree Drummond                            3  4.800000\n",
      "Rick Riordan                           11  4.772727\n",
      "Rob Bell                                1  4.200000\n",
      "Rob Elliott                             8  4.562500\n",
      "Robert Jordan                           1  4.800000\n",
      "Robert Munsch                           2  4.800000\n",
      "Rod Campbell                            4  4.800000\n",
      "Roger Priddy                            5  4.700000\n",
      "Ron Chernow                             1  4.800000\n",
      "Rupi Kaur                               4  4.700000\n",
      "Rush Limbaugh                           2  4.900000\n",
      "Samin Nosrat                            2  4.800000\n",
      "Sandra Boynton                          2  4.800000\n",
      "Sara Gruen                              1  4.500000\n",
      "Sarah Palin                             1  4.600000\n",
      "Sarah Young                             6  4.900000\n",
      "Sasha O'Hara                            1  4.600000\n",
      "Scholastic                              2  4.700000\n",
      "School Zone                             2  4.800000\n",
      "Sherri Duskey Rinker                    2  4.900000\n",
      "Sheryl Sandberg                         2  4.500000\n",
      "Silly Bear                              1  4.800000\n",
      "Stephen Kendrick                        1  4.800000\n",
      "Stephen King                            4  4.525000\n",
      "Stephen R. Covey                        7  4.642857\n",
      "Stephenie Meyer                         7  4.657143\n",
      "Steve Harvey                            1  4.600000\n",
      "Steven D. Levitt                        1  4.500000\n",
      "Stieg Larsson                           6  4.600000\n",
      "Susan Cain                              2  4.600000\n",
      "Suzanne Collins                        11  4.663636\n",
      "Ta-Nehisi Coates                        2  4.700000\n",
      "Tara Westover                           2  4.700000\n",
      "Tatiana de Rosnay                       1  4.600000\n",
      "The College Board                       6  4.383333\n",
      "The Staff of The Late Show with",
      "        1  4.600000\n",
      "The Washington Post                     1  4.600000\n",
      "Thomas Campbell                         1  4.700000\n",
      "Thomas Piketty                          1  4.500000\n",
      "Thug Kitchen                            4  4.600000\n",
      "Timothy Ferriss                         2  4.450000\n",
      "Tina Fey                                1  4.300000\n",
      "Todd Burpo                              2  4.700000\n",
      "Tony Hsieh                              1  4.600000\n",
      "Tucker Carlson                          1  4.800000\n",
      "Veronica Roth                           4  4.400000\n",
      "W. Cleon Skousen                        1  4.800000\n",
      "Walter Isaacson                         3  4.566667\n",
      "William Davis                           2  4.400000\n",
      "William P. Young                        2  4.600000\n",
      "Wizards RPG Team                        3  4.800000\n",
      "Zhi Gang Sha                            2  4.600000\n"
     ]
    }
   ],
   "source": [
    "combined_df = pd.concat([aggregated_authors, aggregated_authors_mean], axis=1)\n",
    "result = combined_df\n",
    "print(result.to_string())"
   ]
  },
  {
   "cell_type": "code",
   "execution_count": 28,
   "id": "a4d2a3d6-b8d7-4257-b05d-b0b0fe1dfedc",
   "metadata": {},
   "outputs": [
    {
     "name": "stdout",
     "output_type": "stream",
     "text": [
      "                   count  mean\n",
      "author                        \n",
      "Muriel Barbery         1   4.0\n",
      "Chris Cleave           1   4.1\n",
      "Ian K. Smith M.D.      1   4.1\n",
      "Pierre Dukan           1   4.1\n",
      "Elizabeth Strout       1   4.2\n"
     ]
    }
   ],
   "source": [
    "sorted_df = combined_df.sort_values(by=['count', 'mean'])\n",
    "print(sorted_df.head())"
   ]
  },
  {
   "cell_type": "markdown",
   "id": "d4835c4b-7e50-4883-bc96-fb486b73e0c2",
   "metadata": {},
   "source": [
    "Який автор перший у списку? Відповідь:  Muriel Barbery  "
   ]
  },
  {
   "cell_type": "code",
   "execution_count": 30,
   "id": "1ec08aa8-3736-4166-8f61-5236bb2a0b01",
   "metadata": {},
   "outputs": [
    {
     "data": {
      "image/png": "[encoded data removed]",
      "text/plain": [
       "<Figure size 640x480 with 1 Axes>"
      ]
     },
     "metadata": {},
     "output_type": "display_data"
    }
   ],
   "source": [
    "plt.style.use('dark_background')\n",
    "\n",
    "combined_df.plot.scatter(x='count', y='mean', color='r')\n",
    "\n",
    "plt.xlabel('Кількість книг', fontsize=12)\n",
    "plt.ylabel('Рейтинг', fontsize=12)\n",
    "plt.title('Точкова діаграма кількості книг vs. рейтингу', fontsize=14)\n",
    "\n",
    "plt.legend(['Books'], loc='best')\n",
    "\n",
    "plt.show()"
   ]
  },
  {
   "cell_type": "code",
   "execution_count": 32,
   "id": "3c5909e4-3523-449a-aad3-e15e68fd3288",
   "metadata": {},
   "outputs": [
    {
     "data": {
      "image/png": "[encoded data removed]",
      "text/plain": [
       "<Figure size 1000x800 with 1 Axes>"
      ]
     },
     "metadata": {},
     "output_type": "display_data"
    }
   ],
   "source": [
    "# Two graphics on one plot\n",
    "\n",
    "# Filter data for the year 2009\n",
    "# to have graphic for few maybe(3) use df_2009 = df[df['year'] == 2010].head(3)\n",
    "df_2009 = df[df['year'] == 2010]\n",
    "\n",
    "# Create two subplots\n",
    "fig, ax = plt.subplots(figsize=(10, 8))\n",
    "\n",
    "# Plot the first subplot\n",
    "df_2009.plot(x='author', y='user_rating', color='skyblue', ax=ax, label='User Rating')\n",
    "# Plot the second subplot\n",
    "df_2009.plot(x='author', y='price', color='salmon', ax=ax, label='Price')\n",
    "\n",
    "# Set title and labels\n",
    "ax.set_title('User Rating and Price of Books in 2009')\n",
    "ax.set_xlabel('Book Name')\n",
    "ax.set_ylabel('Value')\n",
    "\n",
    "# Rotate x-axis labels for better readability\n",
    "plt.xticks(rotation=45, ha='right')\n",
    "\n",
    "# legend\n",
    "plt.legend()\n",
    "\n",
    "# Adjust layout to prevent overlap\n",
    "plt.tight_layout()\n",
    "\n",
    "# Show the plot\n",
    "plt.show()\n"
   ]
  }
 ],
 "metadata": {
  "kernelspec": {
   "display_name": "Python 3 (ipykernel)",
   "language": "python",
   "name": "python3"
  },
  "language_info": {
   "codemirror_mode": {
    "name": "ipython",
    "version": 3
   },
   "file_extension": ".py",
   "mimetype": "text/x-python",
   "name": "python",
   "nbconvert_exporter": "python",
   "pygments_lexer": "ipython3",
   "version": "3.11.8"
  }
 },
 "nbformat": 4,
 "nbformat_minor": 5
}
